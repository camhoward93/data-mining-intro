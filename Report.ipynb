{
  "nbformat": 4,
  "nbformat_minor": 0,
  "metadata": {
    "colab": {
      "name": "Report.ipynb",
      "provenance": [],
      "collapsed_sections": [],
      "toc_visible": true
    },
    "kernelspec": {
      "name": "python3",
      "display_name": "Python 3"
    }
  },
  "cells": [
    {
      "cell_type": "markdown",
      "metadata": {
        "id": "e5q5Wt-6bUja",
        "colab_type": "text"
      },
      "source": [
        "# CS 458 PROJECT REPORT\n",
        "\n",
        "> Cameron Howard\n",
        "\n",
        "> CS 458 Project Report\n",
        "\n",
        "> Project Group 6\n",
        "\n",
        "> 12/12/2019\n",
        "\n",
        "# Team Members (% Contribution):\n",
        "## Cameron Howard (33%)\n",
        "## Ian Vanderhoff (34%)\n",
        "## Chris Parks (33%)\n",
        "\n",
        "\n"
      ]
    },
    {
      "cell_type": "markdown",
      "metadata": {
        "id": "RLdTjhBMc2DB",
        "colab_type": "text"
      },
      "source": [
        "# Introduction\n",
        "\n",
        "This is the final project report for group 6 of CS 458. The following report details a literature review for both of the tasks completed (Task 1 and Task3), then each task is broken down into the parts each team member completed. Represented in each part will be: The team member who coded it, the approach taken, the code, and finally the conclusion. At the end of the report will be a list of codes/documents submitted. The tasks completed for this project were:\n",
        "\n",
        "### Task 1: Document Classification.\n",
        "\n",
        "For this task the data provided had to be formatted in a way that could be used by several different classifiers. Then each team member attempted to classify the data using hand-selected classifiers. Detailed below, it can be seen how each classifier chosen performed, as well as which ones were better suited for the data provided.\n",
        "\n",
        "### Task 3: Exploring Used Auto Purchase Dataset\n",
        "\n",
        "For this task a large and rather unruly dataset was provided, and several methods were employed in an attempt to extrapolate information or patterns. Again, the first step was formatting the data in a way that would work with the libraries used. Next, each team member attempted a different approach at gleaning information from the dataset. Detailed more in the Task 3 section, each approach taken as well as the results can be seen."
      ]
    },
    {
      "cell_type": "markdown",
      "metadata": {
        "id": "1FPRFMZVhYpI",
        "colab_type": "text"
      },
      "source": [
        "# Literature Review: Task 1\n",
        "\n",
        "Task 1 asks that different classification techniques are explored, and that parameters within each of them are further explored in order to determine the best way to classify the given data. Some other works that use multiple classification techniques in order to glean information from data are \"Improved Study of Heart Disease Prediction System using Data Mining Classification Techniques\" [1].\n",
        "\n",
        "In this article, three of the classifications used are decision trees, neural networks, and naive Bayes. Their conclusion was that the artificial neural network had the highest success rate in correctly classifying their data. Task 1 of this project expand upon all three of these implementations in Task 1 in order to test their efficiency on the given dataset.\n",
        "\n",
        "Another article that utilizes multiple techniques of classification is \"Comparative Study of Data Mining Classification Methods in Cardiovascular Disease Prediction\" [2].\n",
        "\n",
        "This article uses RIPPER, decision tree, artificial neural network, and support vector machines. The conclusion of their study is that the support vector machine predicted with the least error rate and the highest accuracy. While Task 1 may not use all of the techniques they do, one that will be implemented is the support vector machine."
      ]
    },
    {
      "cell_type": "markdown",
      "metadata": {
        "id": "KQshL3MChjFD",
        "colab_type": "text"
      },
      "source": [
        "# Literature Review: Task 3\n",
        "\n",
        "Task 3 asks that a large dataset be manipulated in such a way that patterns or correlations can be gleaned from it. There are many ways to attempt such a monumental task, so to help narrow down the daunting task some research was done and one paper found discusses the Apriori approach to data mining in \"Aided Analysis for Quality Function Deployment With an Apriori-Based Data Mining Approach\" [3]. In this paper, the authors discuss how the Apriori algorithm can be employed to generate useful association rules from datasets. This method will be implemented in Task 3 as one of the possible ways to extrapolate information from the given dataset.\n",
        "\n",
        "One other method discussed in a scholarly journal is linear regression in \"On the Accuracy of Linear Regression Routines in Some Data Mining Packages\" [4]. Linear regression demonstrates correlations between two continuous attributes within a dataset. This article discussed different packages that allow this powerful tool to be implemented. This project is implemented in Python and will likely use the Python regression tool discussed in the article.\n",
        "\n"
      ]
    },
    {
      "cell_type": "markdown",
      "metadata": {
        "id": "xD3hOjWxcpR1",
        "colab_type": "text"
      },
      "source": [
        "# Report Preprocessing Code\n",
        "**Run this code before any other to access the github resources.**"
      ]
    },
    {
      "cell_type": "code",
      "metadata": {
        "id": "7cf2xGlE1tSq",
        "colab_type": "code",
        "outputId": "f267c5f5-2e4e-4e9c-d8b6-8742e6015b12",
        "colab": {
          "base_uri": "https://localhost:8080/",
          "height": 1000
        }
      },
      "source": [
        "!wget https://raw.githubusercontent.com/camhoward93/data-mining-intro/master/task1_format_data.py\n",
        "!wget https://raw.githubusercontent.com/camhoward93/data-mining-intro/task3_format_data.py\n",
        "!wget https://raw.githubusercontent.com/camhoward93/data-mining-intro/master/test_data_sample.txt\n",
        "!wget https://raw.githubusercontent.com/camhoward93/data-mining-intro/test_label_sample.txt\n",
        "!wget https://raw.githubusercontent.com/camhoward93/data-mining-intro/label_training.txt\n",
        "!wget https://raw.githubusercontent.com/camhoward93/data-mining-intro/master/test_sample.xlsx\n",
        "!wget https://raw.githubusercontent.com/camhoward93/data-mining-intro/master/testing.txt\n",
        "!wget https://raw.githubusercontent.com/camhoward93/data-mining-intro/master/training.txt\n",
        "!wget https://raw.githubusercontent.com/camhoward93/data-mining-intro/master/UsedAutoRELEVATEfirst10000-noLatLong.csv\n",
        "!wget https://raw.githubusercontent.com/camhoward93/data-mining-intro/master/data_nochanges.csv\n",
        "!wget https://raw.githubusercontent.com/camhoward93/data-mining-intro/master/q3_results_18.txt\n",
        "!wget https://raw.githubusercontent.com/camhoward93/data-mining-intro/master/q3_results_23.txt"
      ],
      "execution_count": 1,
      "outputs": [
        {
          "output_type": "stream",
          "text": [
            "--2019-12-13 00:59:03--  https://raw.githubusercontent.com/delphin7/data_mining_proj_format_data/master/task1_format_data.py\n",
            "Resolving raw.githubusercontent.com (raw.githubusercontent.com)... 151.101.0.133, 151.101.64.133, 151.101.128.133, ...\n",
            "Connecting to raw.githubusercontent.com (raw.githubusercontent.com)|151.101.0.133|:443... connected.\n",
            "HTTP request sent, awaiting response... 200 OK\n",
            "Length: 3505 (3.4K) [text/plain]\n",
            "Saving to: ‘task1_format_data.py.4’\n",
            "\n",
            "\rtask1_format_data.p   0%[                    ]       0  --.-KB/s               \rtask1_format_data.p 100%[===================>]   3.42K  --.-KB/s    in 0s      \n",
            "\n",
            "2019-12-13 00:59:03 (64.5 MB/s) - ‘task1_format_data.py.4’ saved [3505/3505]\n",
            "\n",
            "--2019-12-13 00:59:04--  https://raw.githubusercontent.com/delphin7/data_mining_proj_format_data/master/task3_format_data.py\n",
            "Resolving raw.githubusercontent.com (raw.githubusercontent.com)... 151.101.0.133, 151.101.64.133, 151.101.128.133, ...\n",
            "Connecting to raw.githubusercontent.com (raw.githubusercontent.com)|151.101.0.133|:443... connected.\n",
            "HTTP request sent, awaiting response... 200 OK\n",
            "Length: 4529 (4.4K) [text/plain]\n",
            "Saving to: ‘task3_format_data.py.4’\n",
            "\n",
            "task3_format_data.p 100%[===================>]   4.42K  --.-KB/s    in 0s      \n",
            "\n",
            "2019-12-13 00:59:04 (93.5 MB/s) - ‘task3_format_data.py.4’ saved [4529/4529]\n",
            "\n",
            "--2019-12-13 00:59:04--  https://raw.githubusercontent.com/delphin7/data_mining_proj_format_data/master/test_data_sample.txt\n",
            "Resolving raw.githubusercontent.com (raw.githubusercontent.com)... 151.101.0.133, 151.101.64.133, 151.101.128.133, ...\n",
            "Connecting to raw.githubusercontent.com (raw.githubusercontent.com)|151.101.0.133|:443... connected.\n",
            "HTTP request sent, awaiting response... 200 OK\n",
            "Length: 279749 (273K) [text/plain]\n",
            "Saving to: ‘test_data_sample.txt.4’\n",
            "\n",
            "test_data_sample.tx 100%[===================>] 273.19K  --.-KB/s    in 0.04s   \n",
            "\n",
            "2019-12-13 00:59:04 (6.66 MB/s) - ‘test_data_sample.txt.4’ saved [279749/279749]\n",
            "\n",
            "--2019-12-13 00:59:05--  https://raw.githubusercontent.com/delphin7/data_mining_proj_format_data/master/test_label_sample.txt\n",
            "Resolving raw.githubusercontent.com (raw.githubusercontent.com)... 151.101.0.133, 151.101.64.133, 151.101.128.133, ...\n",
            "Connecting to raw.githubusercontent.com (raw.githubusercontent.com)|151.101.0.133|:443... connected.\n",
            "HTTP request sent, awaiting response... 200 OK\n",
            "Length: 231 [text/plain]\n",
            "Saving to: ‘test_label_sample.txt.4’\n",
            "\n",
            "test_label_sample.t 100%[===================>]     231  --.-KB/s    in 0s      \n",
            "\n",
            "2019-12-13 00:59:05 (46.1 MB/s) - ‘test_label_sample.txt.4’ saved [231/231]\n",
            "\n",
            "--2019-12-13 00:59:06--  https://raw.githubusercontent.com/delphin7/data_mining_proj_format_data/master/label_training.txt\n",
            "Resolving raw.githubusercontent.com (raw.githubusercontent.com)... 151.101.0.133, 151.101.64.133, 151.101.128.133, ...\n",
            "Connecting to raw.githubusercontent.com (raw.githubusercontent.com)|151.101.0.133|:443... connected.\n",
            "HTTP request sent, awaiting response... 200 OK\n",
            "Length: 4339 (4.2K) [text/plain]\n",
            "Saving to: ‘label_training.txt.4’\n",
            "\n",
            "label_training.txt. 100%[===================>]   4.24K  --.-KB/s    in 0s      \n",
            "\n",
            "2019-12-13 00:59:06 (74.7 MB/s) - ‘label_training.txt.4’ saved [4339/4339]\n",
            "\n",
            "--2019-12-13 00:59:06--  https://raw.githubusercontent.com/delphin7/data_mining_proj_format_data/master/test_sample.xlsx\n",
            "Resolving raw.githubusercontent.com (raw.githubusercontent.com)... 151.101.0.133, 151.101.64.133, 151.101.128.133, ...\n",
            "Connecting to raw.githubusercontent.com (raw.githubusercontent.com)|151.101.0.133|:443... connected.\n",
            "HTTP request sent, awaiting response... 200 OK\n",
            "Length: 0 [text/plain]\n",
            "Saving to: ‘test_sample.xlsx.4’\n",
            "\n",
            "test_sample.xlsx.4      [ <=>                ]       0  --.-KB/s    in 0s      \n",
            "\n",
            "2019-12-13 00:59:06 (0.00 B/s) - ‘test_sample.xlsx.4’ saved [0/0]\n",
            "\n",
            "--2019-12-13 00:59:07--  https://raw.githubusercontent.com/delphin7/data_mining_proj_format_data/master/testing.txt\n",
            "Resolving raw.githubusercontent.com (raw.githubusercontent.com)... 151.101.0.133, 151.101.64.133, 151.101.128.133, ...\n",
            "Connecting to raw.githubusercontent.com (raw.githubusercontent.com)|151.101.0.133|:443... connected.\n",
            "HTTP request sent, awaiting response... 200 OK\n",
            "Length: 3308878 (3.2M) [text/plain]\n",
            "Saving to: ‘testing.txt.4’\n",
            "\n",
            "testing.txt.4       100%[===================>]   3.16M  --.-KB/s    in 0.08s   \n",
            "\n",
            "2019-12-13 00:59:07 (37.4 MB/s) - ‘testing.txt.4’ saved [3308878/3308878]\n",
            "\n",
            "--2019-12-13 00:59:07--  https://raw.githubusercontent.com/delphin7/data_mining_proj_format_data/master/training.txt\n",
            "Resolving raw.githubusercontent.com (raw.githubusercontent.com)... 151.101.0.133, 151.101.64.133, 151.101.128.133, ...\n",
            "Connecting to raw.githubusercontent.com (raw.githubusercontent.com)|151.101.0.133|:443... connected.\n",
            "HTTP request sent, awaiting response... 200 OK\n",
            "Length: 6749551 (6.4M) [text/plain]\n",
            "Saving to: ‘training.txt.4’\n",
            "\n",
            "training.txt.4      100%[===================>]   6.44M  --.-KB/s    in 0.1s    \n",
            "\n",
            "2019-12-13 00:59:08 (60.8 MB/s) - ‘training.txt.4’ saved [6749551/6749551]\n",
            "\n",
            "--2019-12-13 00:59:08--  https://raw.githubusercontent.com/delphin7/data_mining_proj_format_data/master/UsedAutoRELEVATEfirst10000-noLatLong.csv\n",
            "Resolving raw.githubusercontent.com (raw.githubusercontent.com)... 151.101.0.133, 151.101.64.133, 151.101.128.133, ...\n",
            "Connecting to raw.githubusercontent.com (raw.githubusercontent.com)|151.101.0.133|:443... connected.\n",
            "HTTP request sent, awaiting response... 200 OK\n",
            "Length: 8679965 (8.3M) [text/plain]\n",
            "Saving to: ‘UsedAutoRELEVATEfirst10000-noLatLong.csv.4’\n",
            "\n",
            "UsedAutoRELEVATEfir 100%[===================>]   8.28M  --.-KB/s    in 0.1s    \n",
            "\n",
            "2019-12-13 00:59:08 (78.1 MB/s) - ‘UsedAutoRELEVATEfirst10000-noLatLong.csv.4’ saved [8679965/8679965]\n",
            "\n",
            "--2019-12-13 00:59:09--  https://raw.githubusercontent.com/delphin7/data_mining_proj_format_data/master/data_nochanges.csv\n",
            "Resolving raw.githubusercontent.com (raw.githubusercontent.com)... 151.101.0.133, 151.101.64.133, 151.101.128.133, ...\n",
            "Connecting to raw.githubusercontent.com (raw.githubusercontent.com)|151.101.0.133|:443... connected.\n",
            "HTTP request sent, awaiting response... 200 OK\n",
            "Length: 5840250 (5.6M) [text/plain]\n",
            "Saving to: ‘data_nochanges.csv.4’\n",
            "\n",
            "data_nochanges.csv. 100%[===================>]   5.57M  --.-KB/s    in 0.1s    \n",
            "\n",
            "2019-12-13 00:59:09 (50.5 MB/s) - ‘data_nochanges.csv.4’ saved [5840250/5840250]\n",
            "\n",
            "--2019-12-13 00:59:09--  https://raw.githubusercontent.com/delphin7/data_mining_proj_format_data/master/q3_results_18.txt\n",
            "Resolving raw.githubusercontent.com (raw.githubusercontent.com)... 151.101.0.133, 151.101.64.133, 151.101.128.133, ...\n",
            "Connecting to raw.githubusercontent.com (raw.githubusercontent.com)|151.101.0.133|:443... connected.\n",
            "HTTP request sent, awaiting response... 200 OK\n",
            "Length: 18762 (18K) [text/plain]\n",
            "Saving to: ‘q3_results_18.txt.4’\n",
            "\n",
            "q3_results_18.txt.4 100%[===================>]  18.32K  --.-KB/s    in 0.01s   \n",
            "\n",
            "2019-12-13 00:59:10 (1.83 MB/s) - ‘q3_results_18.txt.4’ saved [18762/18762]\n",
            "\n",
            "--2019-12-13 00:59:10--  https://raw.githubusercontent.com/delphin7/data_mining_proj_format_data/master/q3_results_23.txt\n",
            "Resolving raw.githubusercontent.com (raw.githubusercontent.com)... 151.101.0.133, 151.101.64.133, 151.101.128.133, ...\n",
            "Connecting to raw.githubusercontent.com (raw.githubusercontent.com)|151.101.0.133|:443... connected.\n",
            "HTTP request sent, awaiting response... 200 OK\n",
            "Length: 16221 (16K) [text/plain]\n",
            "Saving to: ‘q3_results_23.txt.4’\n",
            "\n",
            "q3_results_23.txt.4 100%[===================>]  15.84K  --.-KB/s    in 0.01s   \n",
            "\n",
            "2019-12-13 00:59:10 (1.54 MB/s) - ‘q3_results_23.txt.4’ saved [16221/16221]\n",
            "\n"
          ],
          "name": "stdout"
        }
      ]
    },
    {
      "cell_type": "markdown",
      "metadata": {
        "id": "y1jZ8o_sckEM",
        "colab_type": "text"
      },
      "source": [
        "# Task 1: Document Classification\n",
        "\n",
        "### Purpose:\n",
        "\n",
        "The purpose of this task is to use several different classifiers in order to understand them and conclude which is best suited for the given data. The given training data is used to train each classifier, then the testing data is sent through the classifiers and labeled by each of them. Finally, the accuracy of each classifier’s labeling is determined by comparing the generated labels to a given file of the true labels of the data. The accuracy scores of each classifier used are presented throughout this section."
      ]
    },
    {
      "cell_type": "markdown",
      "metadata": {
        "id": "8HKBFNpBdzPy",
        "colab_type": "text"
      },
      "source": [
        "## Data Preprocessing\n",
        "### Coding Implemented by Team Member: Ian Vanderhoff\n",
        "\n",
        "The data provided (training data file and testing data file) needed to be formatted in such a way that they could be utilized by several different classifiers from the scikit-learn library. The Pandas Python library was used to format the training and testing data into data frames that could be used by the fit functions of different classifiers.\n",
        "\n",
        "However, simply having the data in a data frame wasn’t sufficient as there were still missing values and the two data frames needed to be the same shape in order for the classifiers to utilize them. So, the missing values were replaced with zero values so as to not skew the data. Next, to get both data frames to be the same shape while also reducing the number of useless data (zero filled columns), the union of the attribute IDs for both data sets was taken and zero filled columns were only added for IDs that were in the union and not the dataset.\n",
        "\n",
        "With the data preprocessed this way, the data frames could now be used by a variety of classifiers in the scikit-learn library, and the number of non-informative data within the set was reduced.\n",
        "\n",
        "Note: See task1_format_data file for the functions used to format the data (implemented by Ian Vanderhoff)."
      ]
    },
    {
      "cell_type": "code",
      "metadata": {
        "id": "jITUtLnyTz0n",
        "colab_type": "code",
        "colab": {}
      },
      "source": [
        "from sklearn.metrics import accuracy_score\n",
        "from sklearn.tree import DecisionTreeClassifier\n",
        "import numpy as np\n",
        "import matplotlib.pyplot as plt\n",
        "\n",
        "import task1_format_data as fd1\n",
        "\n",
        "# Importing and pre-processing the data into dataframes that are formatted correctly.\n",
        "X_TRAIN_PATH = \"/content/training.txt\"\n",
        "Y_TRAIN_PATH = \"/content/label_training.txt\"\n",
        "\n",
        "X_TEST_PATH = \"/content/test_data_sample.txt\"\n",
        "Y_TEST_PATH = \"/content/test_label_sample.txt\"\n",
        "\n",
        "# Send the data to dataframes\n",
        "x_train = fd1.data_txt_to_wide_df(X_TRAIN_PATH)\n",
        "y_train = fd1.label_txt_to_df(Y_TRAIN_PATH)\n",
        "\n",
        "x_test = fd1.data_txt_to_wide_df(X_TEST_PATH)\n",
        "y_test = fd1.label_txt_to_df(Y_TEST_PATH)\n",
        "\n",
        "# Union and add zero columns to get the correct shape\n",
        "col_id_union = fd1.get_data_attribute_union(x_train, x_test)\n",
        "\n",
        "x_train = fd1.add_zero_cols_to_df(x_train, col_id_union)\n",
        "x_test = fd1.add_zero_cols_to_df(x_test, col_id_union)"
      ],
      "execution_count": 0,
      "outputs": []
    },
    {
      "cell_type": "markdown",
      "metadata": {
        "id": "UFBcuvVcZcGO",
        "colab_type": "text"
      },
      "source": [
        "## Decision Tree Classification\n",
        "### Coding Implemented by Team Member: Ian Vanderhoff\n",
        "\n",
        "**Approach**\n",
        "\n",
        "For the decision tree classifier, multiple trees were used with varying parameters. This is a brute force method used simply to play with the tweaking of the tree’s most important values in order to discern what will classify the data with the highest accuracy. The parameters chosen to be played with were: the maximum depth of the tree and the maximum number of features. The number of features tested were the default, the sqrt, and the log base 2.\n",
        "\n",
        "By implementing this in a nested for loop, the trees were tested with their feature setting changed, and for each of those trees with different features a range of maximum depths was tested. The accuracy of each tree was stored in a list so that they could be plotted to demonstrate their success.\n"
      ]
    },
    {
      "cell_type": "code",
      "metadata": {
        "id": "XwK0-pIKX_st",
        "colab_type": "code",
        "colab": {}
      },
      "source": [
        "# Initialize Variables\n",
        "clf = DecisionTreeClassifier()\n",
        "clf = clf.fit(x_train, y_train)\n",
        "depth = clf.get_depth()\n",
        "y_pred = clf.predict(x_test)\n",
        "accuracy = accuracy_score(y_test.values, y_pred)\n",
        "\n",
        "max_depth_accuracy = [[], [], []]\n",
        "\n",
        "# Loop over each feature setting, then over all depths in the range\n",
        "# for each iteration, fit to the decision tree classifier, predict, and save accuracy\n",
        "max_depth_options = list(range(2, 61))\n",
        "max_features_options = [None, 'sqrt', 'log2']\n",
        "for i, feature in enumerate(max_features_options):\n",
        "    for depth in max_depth_options:\n",
        "        clf = DecisionTreeClassifier(max_depth=depth, max_features=feature)\n",
        "        clf = clf.fit(x_train, y_train)\n",
        "        y_pred = clf.predict(x_test)\n",
        "        accuracy = accuracy_score(y_test.values, y_pred)\n",
        "        max_depth_accuracy[i].append(accuracy)"
      ],
      "execution_count": 0,
      "outputs": []
    },
    {
      "cell_type": "markdown",
      "metadata": {
        "id": "AiCYiQyAZisG",
        "colab_type": "text"
      },
      "source": [
        "The following code plots the accuracy scores of each tree against their max depths used from the range of 2 - 61."
      ]
    },
    {
      "cell_type": "code",
      "metadata": {
        "id": "25tuRQr5YE_1",
        "colab_type": "code",
        "outputId": "3a417f4e-65ab-45a5-8805-e74fb6ff91b8",
        "colab": {
          "base_uri": "https://localhost:8080/",
          "height": 295
        }
      },
      "source": [
        "# Plot the trees' accuracies\n",
        "plt.plot(np.asarray(max_depth_options), np.asarray(max_depth_accuracy[0]), label='none')\n",
        "plt.plot(np.asarray(max_depth_options), np.asarray(max_depth_accuracy[1]), label='sqrt')\n",
        "plt.plot(np.asarray(max_depth_options), np.asarray(max_depth_accuracy[2]), label='log2')\n",
        "plt.xlabel('max depth')\n",
        "plt.ylabel('accuracy')\n",
        "plt.title(\"Desision Tree Max Depth vs. Accuracy\")\n",
        "plt.legend(title='Max Features')\n",
        "plt.show('decision_tree.png')"
      ],
      "execution_count": 4,
      "outputs": [
        {
          "output_type": "display_data",
          "data": {
            "image/png": "[encoded data removed]",
            "text/plain": [
              "<Figure size 432x288 with 1 Axes>"
            ]
          },
          "metadata": {
            "tags": []
          }
        }
      ]
    },
    {
      "cell_type": "markdown",
      "metadata": {
        "id": "hiRmOGlYxzD1",
        "colab_type": "text"
      },
      "source": [
        "**Conclusion**\n",
        "\n",
        "The accuracy for each tree is not too bad. They all range from around 70 to the mid 90's in percentage of accurate labeling. The decision tree with the default max features setting performed the best, and can be clearly seen increasing in performance during the runs with very low depths. Therefore, the conclusion is that the tree with default max feature settings performs the best, but should be ran with at least a meax depth of about 10."
      ]
    },
    {
      "cell_type": "markdown",
      "metadata": {
        "id": "hz3pXTDKIUGG",
        "colab_type": "text"
      },
      "source": [
        "## Passive Aggressive Classification\n",
        "### Coding Implemented by Team Member: Cameron Howard\n",
        "\n",
        "**Approach**\n",
        "\n",
        "The Passive Aggressive classifier is ill-suited for our assignment, but it was implemented to investigate what kind of results it might have. The Passive Aggressive Classifier is typically used on large streams of data. It takes in a section of the stream and uses it to update its classifier, then throws that section out (and cannot retrieve it later). This would be used on a massive stream of data such as all of the post on Facebook going out throughout the day, or all the tweets on Twitter. However, since this project is just a simple classification over constant values in a file, this classification produces interesting (and not very dependable) results.\n",
        " \n",
        "The parameters being tested are the default case, the fit intercept case, and the 5 times the iterations being done case.\n",
        "\n",
        "Note: The np.ravel() function had to be used to get the correct shape for the fit function of the classifier.\n"
      ]
    },
    {
      "cell_type": "code",
      "metadata": {
        "id": "DHvBHgzBIUf0",
        "colab_type": "code",
        "colab": {}
      },
      "source": [
        "from sklearn.metrics import accuracy_score\n",
        "from sklearn.linear_model import PassiveAggressiveClassifier\n",
        "\n",
        "# Initialize Variables\n",
        "accuracy_scores = [[], [], []]\n",
        "\n",
        "num_iterations = list(range(10))\n",
        "\n",
        "# Loop num_iterations times performing the classification over the three types\n",
        "# of classifiers each time and save the accuracy scores for plotting\n",
        "for _ in num_iterations:\n",
        "    clf = PassiveAggressiveClassifier()\n",
        "    clf = clf.fit(x_train, np.ravel(y_train))\n",
        "    prediction = clf.predict(x_test)\n",
        "    accuracy = accuracy_score(y_test.values, prediction)\n",
        "    accuracy_scores[0].append(accuracy)\n",
        "    # print(\"PA (default) Accuracy: \", accuracy)\n",
        "\n",
        "    clf = PassiveAggressiveClassifier(fit_intercept=True)\n",
        "    clf = clf.fit(x_train, np.ravel(y_train))\n",
        "    prediction = clf.predict(x_test)\n",
        "    accuracy = accuracy_score(y_test.values, prediction)\n",
        "    accuracy_scores[1].append(accuracy)\n",
        "    # print(\"PA (intercept) Accuracy: \", accuracy)\n",
        "\n",
        "    clf = PassiveAggressiveClassifier(max_iter=5000)\n",
        "    clf = clf.fit(x_train, np.ravel(y_train))\n",
        "    prediction = clf.predict(x_test)\n",
        "    accuracy = accuracy_score(y_test.values, prediction)\n",
        "    accuracy_scores[2].append(accuracy)\n",
        "    # print(\"PA (five times iterations) Accuracy: \", accuracy)\n"
      ],
      "execution_count": 0,
      "outputs": []
    },
    {
      "cell_type": "markdown",
      "metadata": {
        "id": "Rly_dm2nRLQr",
        "colab_type": "text"
      },
      "source": [
        "The plot shows each different parameter's accuracy as they ran a number of iterations over the same data."
      ]
    },
    {
      "cell_type": "code",
      "metadata": {
        "id": "1LDetvM-RL85",
        "colab_type": "code",
        "outputId": "2da701b8-5653-45e5-e917-64b1e27db3f9",
        "colab": {
          "base_uri": "https://localhost:8080/",
          "height": 295
        }
      },
      "source": [
        "# Plot the accuracy arrays\n",
        "plt.plot(np.asarray(num_iterations), np.asarray(accuracy_scores[0]), label='default')\n",
        "plt.plot(np.asarray(num_iterations), np.asarray(accuracy_scores[1]), label='intercept')\n",
        "plt.plot(np.asarray(num_iterations), np.asarray(accuracy_scores[2]), label='5x iterations')\n",
        "plt.xlabel('Number of Iterations')\n",
        "plt.ylabel('Accuracy')\n",
        "plt.title(\"Passive Aggressive Classification\")\n",
        "plt.legend(title='Parameters')\n",
        "plt.show()"
      ],
      "execution_count": 6,
      "outputs": [
        {
          "output_type": "display_data",
          "data": {
            "image/png": "[encoded data removed]",
            "text/plain": [
              "<Figure size 432x288 with 1 Axes>"
            ]
          },
          "metadata": {
            "tags": []
          }
        }
      ]
    },
    {
      "cell_type": "markdown",
      "metadata": {
        "id": "qNLXnUNW0PXv",
        "colab_type": "text"
      },
      "source": [
        "**Conclusion**\n",
        "\n",
        "As expected, this classifier is not appropriate for our type of data. However, the results of its classifications are interesting to say the least. Sometimes drops can be seen as low as 49% accuracy. Although each iteration over the data is inconsistent, some of the classifications are close to 100% accuracy. However, the varying results make this a classifier to be avoided for the means of our project."
      ]
    },
    {
      "cell_type": "markdown",
      "metadata": {
        "id": "9kZKaJJNAl_m",
        "colab_type": "text"
      },
      "source": [
        "## Naive Bayes Classification\n",
        "### Coding Implemented by Team Member: Cameron Howard\n",
        "\n",
        "**Approach**\n",
        "\n",
        "The Naive Bayes Classifier uses an underlying Naive Bayes algorithm to classify the data. None of the Naive Bayes algorithms are particularly suited to this data set's limited classification, but they are all reportedly good classifiers, so the output was expected to have high accuracy. The testing parameters used were four different underlying algorithms:\n",
        " \n",
        "Gaussian: Assumes the likelihood of the features is Gaussian.\n",
        " \n",
        "Multinomial: Used for multinomially distributed data, usually used in text classification.\n",
        " \n",
        "Complement: Derived from Multinomial, meant for imbalanced data sets. Also usually used for text classification.\n",
        " \n",
        "Bernoulli: Used on data that follows Bernoulli distributions. \n",
        " \n",
        "Note: The np.ravel() function had to be used to get the correct shape for the fit function of the classifier.\n"
      ]
    },
    {
      "cell_type": "code",
      "metadata": {
        "id": "yVhDREyKAmso",
        "colab_type": "code",
        "outputId": "bce8b88e-f919-4cd1-af2b-a6342127d93d",
        "colab": {
          "base_uri": "https://localhost:8080/",
          "height": 85
        }
      },
      "source": [
        "from sklearn.metrics import accuracy_score\n",
        "import sklearn.naive_bayes as nb\n",
        "\n",
        "# Initialize Variables\n",
        "accuracy_scores = []\n",
        "\n",
        "# Gaussian Classifier\n",
        "clf = nb.GaussianNB()\n",
        "clf = clf.fit(x_train, np.ravel(y_train))\n",
        "prediction = clf.predict(x_test)\n",
        "accuracy = accuracy_score(y_test.values, prediction)\n",
        "accuracy_scores.append(accuracy)\n",
        "print(\"Gaussian Naive Bayes Accuracy: \", accuracy)\n",
        "\n",
        "# Multinomial Classifier\n",
        "clf = nb.MultinomialNB()\n",
        "clf = clf.fit(x_train, np.ravel(y_train))\n",
        "prediction = clf.predict(x_test)\n",
        "accuracy = accuracy_score(y_test.values, prediction)\n",
        "accuracy_scores.append(accuracy)\n",
        "print(\"Multinomial Naive Bayes Accuracy: \", accuracy)\n",
        "\n",
        "# Complement Classifier\n",
        "clf = nb.ComplementNB()\n",
        "clf = clf.fit(x_train, np.ravel(y_train))\n",
        "prediction = clf.predict(x_test)\n",
        "accuracy = accuracy_score(y_test.values, prediction)\n",
        "accuracy_scores.append(accuracy)\n",
        "print(\"Complement Naive Bayes Accuracy: \", accuracy)\n",
        "\n",
        "# Bernoulli Classifier\n",
        "clf = nb.BernoulliNB()\n",
        "clf = clf.fit(x_train, np.ravel(y_train))\n",
        "prediction = clf.predict(x_test)\n",
        "accuracy = accuracy_score(y_test.values, prediction)\n",
        "accuracy_scores.append(accuracy)\n",
        "print(\"Bernoulli Naive Bayes Accuracy: \", accuracy)\n"
      ],
      "execution_count": 7,
      "outputs": [
        {
          "output_type": "stream",
          "text": [
            "Gaussian Naive Bayes Accuracy:  0.98\n",
            "Multinomial Naive Bayes Accuracy:  0.95\n",
            "Complement Naive Bayes Accuracy:  0.95\n",
            "Bernoulli Naive Bayes Accuracy:  0.98\n"
          ],
          "name": "stdout"
        }
      ]
    },
    {
      "cell_type": "markdown",
      "metadata": {
        "id": "t3BxjbtnHvbn",
        "colab_type": "text"
      },
      "source": [
        "The plot is a horizontal bar graph with each of the classifiers on the y-axis and the accuracy on the x-axis."
      ]
    },
    {
      "cell_type": "code",
      "metadata": {
        "id": "NvqlnfXqHv5j",
        "colab_type": "code",
        "outputId": "8f94fb03-8c39-4f6a-b6ab-90dc37a6844e",
        "colab": {
          "base_uri": "https://localhost:8080/",
          "height": 295
        }
      },
      "source": [
        "# Plot the accuracies\n",
        "bars = ('Gaussian', 'Multinomial', 'Complement', 'Bernoulli')\n",
        "y_pos = np.arange(len(bars))\n",
        "\n",
        "plt.barh(y_pos, accuracy_scores, align='center')\n",
        "plt.yticks(y_pos, bars)\n",
        "plt.xlabel('Accuracy')\n",
        "plt.title('Naive Bayes')\n",
        "\n",
        "plt.show()"
      ],
      "execution_count": 8,
      "outputs": [
        {
          "output_type": "display_data",
          "data": {
            "image/png": "[encoded data removed]",
            "text/plain": [
              "<Figure size 432x288 with 1 Axes>"
            ]
          },
          "metadata": {
            "tags": []
          }
        }
      ]
    },
    {
      "cell_type": "markdown",
      "metadata": {
        "id": "NgVNepJ62yVA",
        "colab_type": "text"
      },
      "source": [
        "**Conclusion**\n",
        "\n",
        "None of the Naive Bayes algorithms are particularly suited to this data set's limited classification. However, they all perform relatively well ranging from 95% - 98% accuracy. It is worth noting that none of them were able to reach 100% accuracy.\n"
      ]
    },
    {
      "cell_type": "markdown",
      "metadata": {
        "id": "Z5VZkOgv4881",
        "colab_type": "text"
      },
      "source": [
        "## Support Vector Machine\n",
        "### Coding Implemented by Team Member: Cameron Howard\n",
        "\n",
        "**Approach**\n",
        "\n",
        "The Support Vector Machine (SVM) runs the data through an underlying kernel algorithm in order to classify it. This code can take about 20 minutes to fully run as the SVMs are complex. The loop tests different kernel options (which are just the algorithms that the SVM is using to determine its classifications) with different gamma options (which are just kernel coefficients [Auto = (1/n) and Scale = (1/(n*variance of x))]. The kernels used are rbf (radial basis function [this is the default option]), polynomial, sigmoid, and linear. Linear gets tested after the loop to avoid using unnecessary processing time on parameters it would just ignore. Polynomial gets tested using differing degrees (1-4).\n",
        "\n",
        "Note: The np.ravel() function had to be used to get the correct shape for the fit function of the classifier.\n"
      ]
    },
    {
      "cell_type": "code",
      "metadata": {
        "id": "DoKqwQew32f6",
        "colab_type": "code",
        "outputId": "194e28b4-379a-44c8-e88e-81377db8348b",
        "colab": {
          "base_uri": "https://localhost:8080/",
          "height": 238
        }
      },
      "source": [
        "from sklearn.metrics import accuracy_score\n",
        "from sklearn.svm import SVC\n",
        "\n",
        "# Initialize Variables\n",
        "accuracy_scores = []\n",
        "kernel_opts = ['rbf', 'poly', 'sigmoid']  # cases\n",
        "gamma_opts = ['auto', 'scale']            # used by all 3 cases\n",
        "degree_opts = list(range(1, 5))           # poly, ignored by others\n",
        "\n",
        "# Perform loops and save accuracy scores and print accuracy\n",
        "# Loop over the kernel options\n",
        "for k in kernel_opts:\n",
        "    # Loop over the gamma options\n",
        "    for g in gamma_opts:\n",
        "        # If polynomial kernel, loop over degree options\n",
        "        if k == 'poly':\n",
        "            for d in degree_opts:\n",
        "                clf = SVC(kernel=k, gamma=g, degree=d)\n",
        "                clf = clf.fit(x_train, np.ravel(y_train))\n",
        "                prediction = clf.predict(x_test)\n",
        "                accuracy = accuracy_score(y_test.values, prediction)\n",
        "                accuracy_scores.append(accuracy)\n",
        "                print(\"Kernel: \", k, \"; Gamma: \", g, \"; Degree: \", d, \"; Accuracy: \", accuracy)\n",
        "        else:\n",
        "            clf = SVC(kernel=k, gamma=g)\n",
        "            clf = clf.fit(x_train, np.ravel(y_train))\n",
        "            prediction = clf.predict(x_test)\n",
        "            accuracy = accuracy_score(y_test.values, prediction)\n",
        "            accuracy_scores.append(accuracy)\n",
        "            print(\"Kernel: \", k, \"; Gamma: \", g, \"; Accuracy: \", accuracy)\n",
        "            \n",
        "# Perform the final kernel (Linear)\n",
        "clf = SVC(kernel='linear')\n",
        "clf = clf.fit(x_train, np.ravel(y_train))\n",
        "prediction = clf.predict(x_test)\n",
        "accuracy = accuracy_score(y_test.values, prediction)\n",
        "accuracy_scores.append(accuracy)\n",
        "print(\"Kernel: \", \"linear\", \"; Gamma: \", \"Auto\", \"; Accuracy: \", accuracy)"
      ],
      "execution_count": 9,
      "outputs": [
        {
          "output_type": "stream",
          "text": [
            "Kernel:  rbf ; Gamma:  auto ; Accuracy:  0.69\n",
            "Kernel:  rbf ; Gamma:  scale ; Accuracy:  0.7\n",
            "Kernel:  poly ; Gamma:  auto ; Degree:  1 ; Accuracy:  0.72\n",
            "Kernel:  poly ; Gamma:  auto ; Degree:  2 ; Accuracy:  0.8\n",
            "Kernel:  poly ; Gamma:  auto ; Degree:  3 ; Accuracy:  0.73\n",
            "Kernel:  poly ; Gamma:  auto ; Degree:  4 ; Accuracy:  0.69\n",
            "Kernel:  poly ; Gamma:  scale ; Degree:  1 ; Accuracy:  0.7\n",
            "Kernel:  poly ; Gamma:  scale ; Degree:  2 ; Accuracy:  0.7\n",
            "Kernel:  poly ; Gamma:  scale ; Degree:  3 ; Accuracy:  0.7\n",
            "Kernel:  poly ; Gamma:  scale ; Degree:  4 ; Accuracy:  0.7\n",
            "Kernel:  sigmoid ; Gamma:  auto ; Accuracy:  0.69\n",
            "Kernel:  sigmoid ; Gamma:  scale ; Accuracy:  0.7\n",
            "Kernel:  linear ; Gamma:  Auto ; Accuracy:  1.0\n"
          ],
          "name": "stdout"
        }
      ]
    },
    {
      "cell_type": "markdown",
      "metadata": {
        "id": "_v1K9wNS_9CL",
        "colab_type": "text"
      },
      "source": [
        "The results are compiled into a horizontal bar graph that shows accuracy on the x-axis and each tested kernel with its parameters on the y-axis."
      ]
    },
    {
      "cell_type": "code",
      "metadata": {
        "id": "ZpYZ7wfc_8lK",
        "colab_type": "code",
        "outputId": "51fb4310-38a0-437d-aec8-c716a6458bdb",
        "colab": {
          "base_uri": "https://localhost:8080/",
          "height": 295
        }
      },
      "source": [
        "# Plot the accuracies of the differing SVMs\n",
        "bars = ('RBF(Auto)', 'RBF(Scale)', 'Poly(Auto)[1]', 'Poly(Auto)[2]', 'Poly(Auto)[3]', 'Poly(Auto)[4]',\n",
        "        'Poly(Scale)[1]', 'Poly(Scale)[2]', 'Poly(Scale)[3]', 'Poly(Scale)[4]', 'Sigmoid(Auto)', 'Sigmoid(Scale)',\n",
        "        'Linear')\n",
        "y_pos = np.arange(len(bars))\n",
        "\n",
        "plt.barh(y_pos, accuracy_scores, align='center')\n",
        "plt.yticks(y_pos, bars)\n",
        "plt.xlabel('Accuracy')\n",
        "plt.title('Support Vector Machine')\n",
        "\n",
        "plt.show()\n"
      ],
      "execution_count": 10,
      "outputs": [
        {
          "output_type": "display_data",
          "data": {
            "image/png": "[encoded data removed]",
            "text/plain": [
              "<Figure size 432x288 with 1 Axes>"
            ]
          },
          "metadata": {
            "tags": []
          }
        }
      ]
    },
    {
      "cell_type": "markdown",
      "metadata": {
        "id": "hscvT-an4lRi",
        "colab_type": "text"
      },
      "source": [
        "**Conclusion**\n",
        "\n",
        "Linear was by far the best result with 100% accuracy. The rest hovered around 70% while polynomial of degree 2 with auto gamma got to 80%.\n",
        " \n",
        "As a whole, the Linear kernel SVM is the best classifier for this task.\n"
      ]
    },
    {
      "cell_type": "markdown",
      "metadata": {
        "id": "omkeWquahI-a",
        "colab_type": "text"
      },
      "source": [
        "## Remaining Classifiers Preprocessing Code\n",
        "### Coding Implemented by Team Member: Chris Parks\n",
        "**Run this code to reduce the time the next few classifiers take to complete.**"
      ]
    },
    {
      "cell_type": "code",
      "metadata": {
        "id": "TDX3XGvT2Dkn",
        "colab_type": "code",
        "outputId": "8d5fd935-4337-40b8-eba0-6ac23f1d70fd",
        "colab": {
          "base_uri": "https://localhost:8080/",
          "height": 34
        }
      },
      "source": [
        "#Chris Parks\n",
        "#Variable to toggle whether or not to calculate new data for the\n",
        "#Nearest Neighbor, Artificial Neural Network, and Ensemble Method Classifiers\n",
        "\n",
        "#These classifiers can take a long time to run, so to save time,\n",
        "#set to false to use data calculated from previous trials\n",
        "\n",
        "#Set to true to run the classifiers and generate new output data\n",
        "\n",
        "if 'toggle_calculations' in locals():\n",
        "  toggle_calculations = not toggle_calculations\n",
        "else:\n",
        "  toggle_calculations = False\n",
        "\n",
        "print(\"Toggle for calculating new data is: \" + str(toggle_calculations))"
      ],
      "execution_count": 11,
      "outputs": [
        {
          "output_type": "stream",
          "text": [
            "Toggle for calculating new data is: False\n"
          ],
          "name": "stdout"
        }
      ]
    },
    {
      "cell_type": "markdown",
      "metadata": {
        "id": "z3HNjsdTVotC",
        "colab_type": "text"
      },
      "source": [
        "## Nearest Neighbor Classification\n",
        "### Coding Implemented by Team Member: Chris Parks\n",
        "\n",
        "**Approach**\n",
        "\n",
        "The nearest neighbor classification uses nearby records of data to classify itself. This classifier was thought to be ill-suited for this task as the data is fairly sparse. The parameter used for testing purposes was the number of nearby neighbors to consider for each classification.\n",
        "\n",
        "The numbers used as the testing parameters were 1 - 100.\n"
      ]
    },
    {
      "cell_type": "code",
      "metadata": {
        "id": "J2FG1ZRLXZq1",
        "colab_type": "code",
        "colab": {
          "base_uri": "https://localhost:8080/",
          "height": 295
        },
        "outputId": "f91e7f41-ed52-48c5-e40b-d1f8b312bde5"
      },
      "source": [
        "import sklearn\n",
        "from sklearn.neighbors import KNeighborsClassifier\n",
        "\n",
        "# Initialize Variables\n",
        "num_neighbors_options = [1, 3, 5, 10, 15, 25, 50, 75, 100]\n",
        "neighbors_labels = ['1',' 3',' 5',' 10',' 15',' 25',' 50',' 75',' 100']\n",
        "results = []\n",
        "\n",
        "# Either run new or use old data\n",
        "if(toggle_calculations):\n",
        "    #Calculate new results\n",
        "    for num_neighbors in num_neighbors_options:\n",
        "        clf = KNeighborsClassifier(n_neighbors=num_neighbors,weights='uniform')\n",
        "        clf.fit(x_train, np.ravel(y_train,order='C'))\n",
        "        \n",
        "        y_pred = clf.predict(x_test)\n",
        "        accuracy = sklearn.metrics.accuracy_score(y_test.values, y_pred)\n",
        "        results.append(accuracy)\n",
        "        print(\"num_neighbors: \", str(num_neighbors), \"; accuracy: \", accuracy)\n",
        "\n",
        "else:\n",
        "    #Results obtained from a previous run; Allows quick adjustments of matplotlib parameters\n",
        "    results = [0.63, 0.59, 0.62, 0.6, 0.66, 0.68, 0.69, 0.69, 0.69]\n",
        "\n",
        "# Plot results\n",
        "plt.plot(neighbors_labels, results, markerfacecolor='#f54242', markersize=12, color='#f54242', linewidth=3)\n",
        "plt.ylim([0.58,0.7])\n",
        "plt.xlabel('Number of Neighbors')\n",
        "plt.ylabel('Accuracy')\n",
        "plt.title(\"Number of Neighbors vs Accuracy\")\n",
        "plt.show()"
      ],
      "execution_count": 12,
      "outputs": [
        {
          "output_type": "display_data",
          "data": {
            "image/png": "[encoded data removed]",
            "text/plain": [
              "<Figure size 432x288 with 1 Axes>"
            ]
          },
          "metadata": {
            "tags": []
          }
        }
      ]
    },
    {
      "cell_type": "markdown",
      "metadata": {
        "id": "71BYwrIH6N_E",
        "colab_type": "text"
      },
      "source": [
        "**Conclusion**\n",
        "\n",
        "As expected, the classifier did not perform well on such sparse data. It was interesting to see the clear climb in accuracy once the testing range hit 10. It almost follows a log function with 50 being the upper limit. Overall, the accuracy never reaches 70% though, so this classifier is not good for this task.\n"
      ]
    },
    {
      "cell_type": "markdown",
      "metadata": {
        "id": "qwEDs47114GH",
        "colab_type": "text"
      },
      "source": [
        "## Artificial Neural Network / Multi-Layer Perceptron\n",
        "### Coding Implemented by Team Member: Chris Parks\n",
        "\n",
        "**Approach**\n",
        "\n",
        "The artificial neural network / multilayer perceptron is a very complex classifier. There are a large number of parameters that can be varied and tested upon, each adding exponentially to the permutations of possible runs. This can get quite strenuous on the runtime, and as such only a small number of parameters were tested.\n",
        "\n",
        "The first parameter tested was the solver used (Limited-Memory Broyden Fletcher Goldfarb Shanno [LBFGS], Stochastic Gradient Descent [SGD], and Adam), activator functions (Identity, Logistic, Hyperbolic Tangent, and RELU), and the number of neurons in the hidden layer (10, 20, 30, and 40).\n",
        "\n",
        "\n"
      ]
    },
    {
      "cell_type": "code",
      "metadata": {
        "id": "zqo4VEmH3zX5",
        "colab_type": "code",
        "colab": {
          "base_uri": "https://localhost:8080/",
          "height": 295
        },
        "outputId": "19d912cb-6873-44de-9818-0258de69cd42"
      },
      "source": [
        "import sklearn\n",
        "from sklearn.neural_network import MLPClassifier\n",
        "\n",
        "# Initialize Variables\n",
        "results = []\n",
        "solvers = ['lbfgs', 'sgd', 'adam'] #sgd = stochastic gradient descent\n",
        "activators = ['identity','logistic', 'tanh', 'relu'] #logistic = sigmoid\n",
        "hidden_layer_sizes = [10,20,30,40]\n",
        "hidden_layer_sizes_label = ['10','20','30','40']\n",
        "\n",
        "# Start new calculation or use old results\n",
        "if(toggle_calculations):\n",
        "    #Calculate new results\n",
        "    x=0\n",
        "    for solver in solvers:\n",
        "        results.append([])\n",
        "        y=0\n",
        "        for activator in activators:\n",
        "            results[x].append([])\n",
        "            z=0\n",
        "            for hl_size in hidden_layer_sizes:\n",
        "                results[x][y].append([])\n",
        "                clf = MLPClassifier(solver=solver,alpha=1e-5,hidden_layer_sizes=(hl_size,),activation=activator,random_state=1)\n",
        "                clf.fit(x_train, np.ravel(y_train,order='C'))\n",
        "                y_pred = clf.predict(x_test)\n",
        "                accuracy = sklearn.metrics.accuracy_score(y_test.values, y_pred)\n",
        "                print(\"solver: \", solver, \"; activator: \",activator,\"; hidden_layer_size: \",str(hl_size),\"; accuracy: \", accuracy)\n",
        "                results[x][y][z] = accuracy\n",
        "                z+=1\n",
        "            y+=1\n",
        "        x+=1\n",
        "\n",
        "else:\n",
        "    #Results obtained from a previous run; Allows quick adjustments of matplotlib parameters\n",
        "    results = [[[0.6, 0.97, 0.97, 0.99], [0.63, 0.73, 0.66, 0.59], [0.63, 0.58, 0.59, 0.6], [0.41, 0.7, 0.96, 0.93]], [[0.81, 0.81, 0.7, 0.73], [0.76, 0.78, 0.7, 0.8], [0.7, 0.7, 0.62, 0.67], [0.7, 0.74, 0.63, 0.7]], [[1.0, 0.99, 1.0, 1.0], [1.0, 1.0, 1.0, 1.0], [1.0, 0.99, 1.0, 0.99], [1.0, 1.0, 1.0, 1.0]]]\n",
        "\n",
        "# Plot the accuracies\n",
        "markers = ['+','.','o',',']\n",
        "colors = ['#f54242','#f5ef42','#54f542','#42b9f5']\n",
        "\n",
        "plt.figure(figsize=(9,4))\n",
        "for a in range(0,3):\n",
        "    ax = plt.subplot(131 + a)\n",
        "    ax.set_xlabel('# of Hidden Layers')\n",
        "    ax.set_ylabel('Accuracy')\n",
        "    for b in range(0,4):\n",
        "        plt.plot( hidden_layer_sizes_label, results[a][b], marker=markers[b], markerfacecolor=colors[b], markersize=12, color=colors[b], linewidth=3)\n",
        "        plt.ylim([0.0,1.0])\n",
        "        \n",
        "    plt.legend(activators,loc='lower right',title='Activator')\n",
        "    plt.title(solvers[a] + \" solver\")\n",
        "plt.subplots_adjust(wspace=0.3)\n",
        "plt.show()"
      ],
      "execution_count": 13,
      "outputs": [
        {
          "output_type": "display_data",
          "data": {
            "image/png": "[encoded data removed]",
            "text/plain": [
              "<Figure size 648x288 with 3 Axes>"
            ]
          },
          "metadata": {
            "tags": []
          }
        }
      ]
    },
    {
      "cell_type": "markdown",
      "metadata": {
        "id": "WmHc-U4y9Bn0",
        "colab_type": "text"
      },
      "source": [
        "**Conclusion**\n",
        "\n",
        "The solvers chosen had the largest impact on the accuracy of each run. While the activator functions did drastically change the results under the LDFGS solver, they didn't have too much of an impact anywhere else. The SGD solver performed adequately with accuracy ranging from 60 - 80%. However, the Adam solver performed at 100% accuracy regardless of the activator used or the number of hidden layers.\n",
        "\n",
        "As a whole, the Adam solver in the ANN is the best suited classifier for this task."
      ]
    },
    {
      "cell_type": "markdown",
      "metadata": {
        "id": "vUjVnxLZDcIW",
        "colab_type": "text"
      },
      "source": [
        "## Ensemble Methods\n",
        "### Coding Implemented by Team Member: Chris Parks\n",
        "\n",
        "**Approach**\n",
        "\n",
        "The ensemble classifiers start by gathering multiple weak classification predictions. Then they aggregate them to form one stronger classification prediction. There are several types of ensemble methods to choose from. Here two are tested: Bagging and AdaBoost."
      ]
    },
    {
      "cell_type": "markdown",
      "metadata": {
        "id": "ZYHFJMuWFSBj",
        "colab_type": "text"
      },
      "source": [
        "#### *Bagging*\n",
        "\n",
        "Bagging randomly collects a subset of the given dataset and uses a specified estimator on this subset to form a weak prediction. It keeps doing this (the subset taken is put back in the pool) until it aggregates the collection of weak predictions into a strong one.\n",
        "\n",
        "The parameters used to test were: the number of estimators to use (2, 4, 6) and the percentage of samples used for the subsets (20%, 30%, 40%, 50%).\n"
      ]
    },
    {
      "cell_type": "code",
      "metadata": {
        "id": "0On9IUynFFCk",
        "colab_type": "code",
        "colab": {
          "base_uri": "https://localhost:8080/",
          "height": 295
        },
        "outputId": "1a25d002-fd5f-4610-992a-5d08cbbdaa89"
      },
      "source": [
        "import sklearn\n",
        "from sklearn.neighbors import KNeighborsClassifier\n",
        "from sklearn.ensemble import BaggingClassifier\n",
        "\n",
        "# Initialize Variables\n",
        "results = []\n",
        "num_estimators_options = [2, 4, 6]\n",
        "est_labels = ['2','4','6']\n",
        "max_samples_options = [0.2, 0.3, 0.4, 0.5]\n",
        "samples_labels = ['0.2','0.3','0.4','0.5']\n",
        "\n",
        "# Either run new calculations or use the old results\n",
        "if(toggle_calculations):\n",
        "    #Calculate new results\n",
        "    x=0\n",
        "    for num_estimators in num_estimators_options:\n",
        "        results.append([])\n",
        "        for max_samples in max_samples_options:\n",
        "            clf = BaggingClassifier(base_estimator=KNeighborsClassifier(),max_samples=max_samples, max_features=0.75,n_estimators=num_estimators)\n",
        "            clf.fit(x_train, np.ravel(y_train,order='C'))\n",
        "            y_pred = clf.predict(x_test)\n",
        "            accuracy = sklearn.metrics.accuracy_score(y_test.values, y_pred)\n",
        "            print(\"max_samples: \", str(max_samples), \"; num_estimators: \", str(num_estimators),\" accuracy: \", accuracy)\n",
        "            results[x].append(accuracy)\n",
        "        x+=1\n",
        "\n",
        "else:\n",
        "    #Results obtained from a previous run; Allows quick adjustments of matplotlib parameters\n",
        "    results = [[0.54, 0.54, 0.62, 0.58], [0.69, 0.63, 0.68, 0.61], [0.66,0.65,0.65,0.64]]\n",
        "\n",
        "# Plot the accuracies\n",
        "markers = ['+','.','o',',']\n",
        "colors = ['#f54242','#f5ef42','#54f542','#42b9f5']\n",
        "\n",
        "for a in range(0,3):\n",
        "    plt.plot(samples_labels, results[a],marker=markers[a], markerfacecolor=colors[a], markersize=12, color=colors[a], linewidth=3)\n",
        "    plt.ylim([0.4,0.8])\n",
        "plt.xlabel('Max Samples')\n",
        "plt.ylabel('Accuracy')\n",
        "plt.legend(est_labels,loc='lower right',title='# Estimators')\n",
        "plt.title(\"# Max Samples vs Accuracy\")\n",
        "plt.show()"
      ],
      "execution_count": 14,
      "outputs": [
        {
          "output_type": "display_data",
          "data": {
            "image/png": "[encoded data removed]",
            "text/plain": [
              "<Figure size 432x288 with 1 Axes>"
            ]
          },
          "metadata": {
            "tags": []
          }
        }
      ]
    },
    {
      "cell_type": "markdown",
      "metadata": {
        "id": "Q_P0tneFFKLb",
        "colab_type": "text"
      },
      "source": [
        "#### *AdaBoost*\n",
        "\n",
        "AdaBoost works on the entire dataset and iterates over it a number of times. The estimators are changed after each iteration in order to attempt to correctly classify data that was misclassified in the previous iteration. \n",
        "\n",
        "The parameter chosen for testing was the number of estimators (10, 25, 50, 100, 150, 200)."
      ]
    },
    {
      "cell_type": "code",
      "metadata": {
        "id": "CFvkezVjFMg5",
        "colab_type": "code",
        "colab": {
          "base_uri": "https://localhost:8080/",
          "height": 295
        },
        "outputId": "d1f2a6e4-8f08-45eb-fef1-b5176acc718d"
      },
      "source": [
        "import sklearn\n",
        "from sklearn.ensemble import AdaBoostClassifier\n",
        "\n",
        "# Initialize Variables\n",
        "results = []\n",
        "num_estimators_options = [10, 25, 50, 100, 150, 200]\n",
        "est_labels = ['10','25','50','100','150','200']\n",
        "\n",
        "# Either run new calculations or use old results\n",
        "if(toggle_calculations):\n",
        "    #Calculate new results\n",
        "    for n_estimators in num_estimators_options:\n",
        "        clf = AdaBoostClassifier(n_estimators=n_estimators)\n",
        "        clf.fit(x_train, np.ravel(y_train,order='C'))\n",
        "        y_pred = clf.predict(x_test)\n",
        "        accuracy = sklearn.metrics.accuracy_score(y_test.values, y_pred)\n",
        "        results.append(accuracy)\n",
        "        print(\"num_estimators: \", str(n_estimators), \" accuracy: \", accuracy)\n",
        "\n",
        "else:\n",
        "    #Results obtained from a previous run; Allows quick adjustments of matplotlib parameters\n",
        "    results = [0.94,0.95,0.95,0.96,0.96,0.96]\n",
        "\n",
        "# Plot the accuracies\n",
        "plt.plot(est_labels, results, markerfacecolor='#f54242', markersize=12, color='#f54242', linewidth=3) #identity\n",
        "plt.ylim([0.9,1.0])\n",
        "plt.xlabel('# Estimators')\n",
        "plt.ylabel('Accuracy')\n",
        "plt.title(\"# Estimators vs Accuracy\")\n",
        "plt.show()"
      ],
      "execution_count": 15,
      "outputs": [
        {
          "output_type": "display_data",
          "data": {
            "image/png": "[encoded data removed]",
            "text/plain": [
              "<Figure size 432x288 with 1 Axes>"
            ]
          },
          "metadata": {
            "tags": []
          }
        }
      ]
    },
    {
      "cell_type": "markdown",
      "metadata": {
        "id": "dgfM5-_t_1NG",
        "colab_type": "text"
      },
      "source": [
        "**Conclusion**\n",
        "\n",
        "The ensemble methods are a fascinating type of classifier, and have the potential to be quite powerful tools. In this case, the bagging method was not very successful, with an accuracy range of 54 - 69%. This could have been due to memory limitations that caused for a limited number of estimator options. More likely, however, it was due to the specified estimator being the nearest neighbor classifier (which was shown to be ineffective on this dataset previously).\n",
        "\n",
        "The AdaBoost method, on the other hand, was a good classifier ranging in accuracy from 94-96%. There is still room for growth too by giving higher numbers of estimators to the classifier.\n"
      ]
    },
    {
      "cell_type": "markdown",
      "metadata": {
        "id": "ZgoUGH5pDyAC",
        "colab_type": "text"
      },
      "source": [
        "# Task 3: Exploring Used Auto Purchase Dataset\n",
        "\n",
        "### Purpose:\n",
        "\n",
        "The purpose of this task is to take a given dataset (the is incredibly large and formatted horrendously) and extrapolate patterns or information from it. Since this goal is open-ended, each team member used a different method of their choice to try to find correlations between differing fields within the dataset."
      ]
    },
    {
      "cell_type": "markdown",
      "metadata": {
        "id": "px3cy2vhEFYo",
        "colab_type": "text"
      },
      "source": [
        "## Decision Tree Hypothesis Testing\n",
        "### Coding Implemented by Team Member: Ian Vanderhoff"
      ]
    },
    {
      "cell_type": "markdown",
      "metadata": {
        "id": "FP7CPqZaKeIr",
        "colab_type": "text"
      },
      "source": [
        "### **Approach**"
      ]
    },
    {
      "cell_type": "markdown",
      "metadata": {
        "id": "zWlXyAcJKEKG",
        "colab_type": "text"
      },
      "source": [
        "#### *Hypothesis*\n",
        "\n",
        "The goal for the decision tree hypothesis testing was to see if a correlation could be found between customer information and the vehicle type they bought. The hypothesis is that there will be a positive correlation between at least one attribute and type of vehicle bought."
      ]
    },
    {
      "cell_type": "markdown",
      "metadata": {
        "id": "mowQHeJoKIv4",
        "colab_type": "text"
      },
      "source": [
        "#### *Data Preprocessing*\n",
        "\n",
        "The dataset was given in a massive csv format file. There was a plethora of null values and zero values, and at parts it seemed the data was supposed to be scaled differently between entries. So the data preprocessing needed to reformat the data into a data frame, remove the empty entries, and then filter it down to just the entries that were being used to test the hypothesis. These entries chosen were:\n",
        "\n",
        "* BehaviorBank: Internet/Online Subscriber\n",
        "* BehaviorBank: Donates to Environmental Causes\n",
        "* BehaviorBank: Interest in Foreign Travel\n",
        "* BehaviorBank: Interest in Automotive\n",
        "* BehaviorBank: Interest in Reading\n",
        "* BehaviorBank: Interest in Travel\n",
        "* BehaviorBank: Cat Enthusiast\n",
        "* BehaviorBank: Interest in Domestic Travel\n",
        "* MOR Bank Religious Contributor\n",
        "* MOR Bank - Upscale Merch Buyer\n",
        "* MOR Bank Do-It-Yourselfers\n",
        "* MOR Bank Male Sports Magazine\n",
        "* Ethnic Insight - Experian Group Code - Use this for group\n",
        "* Rural Urban County Size Code\n",
        "* Dwelling Type\n",
        "* Home Heat Indicator\n",
        "* Home Fireplaces\n",
        "* Home Property Indicator\n",
        "* Person Education\n",
        "* Gender Code\n",
        "* Presence of E-mail\n",
        "* Homeowner Probability Model\n",
        "\n",
        "To deal with categorical values, they were transformed into numerical values assigned based on what their possible categorical values could be. The dataset is very sparse, and all nan values were replaced with zero values. The attribute being tested was put into its own data frame for the purpose of fitting into the decision tree classifier, and the first 7000 records were chosen to be training data while the remaining 2999 were testing data for the prediction.\n",
        "\n",
        "Note: See task3_format_data file for the functions used to format the data (implemented by Ian Vanderhoff)."
      ]
    },
    {
      "cell_type": "markdown",
      "metadata": {
        "id": "ik4453Mc_3nY",
        "colab_type": "text"
      },
      "source": [
        "#### *Results From Hand-Picked Attributes*\n",
        "\n",
        "Much like with the decision tree classification in Task 1, parameters were tuned and tested to attempt to gain the best results. The parameters tested were: maximum depth (1-40), minimum sample split (2-20), and max feature value (default, full number, sqrt, and log base 2 of the total number of features in the tree).\n",
        "\n",
        "The accuracy scores were taken from these trees on the testing data. The accuracies ranged from 45 - 55%, which is just like guessing, implying that the correlation between the original values in the hypothesis are very weak.\n"
      ]
    },
    {
      "cell_type": "code",
      "metadata": {
        "id": "oJ-y_wy7uVUt",
        "colab_type": "code",
        "outputId": "e1ed88a2-d88b-460d-d915-89b902c5fffb",
        "colab": {
          "base_uri": "https://localhost:8080/",
          "height": 272
        }
      },
      "source": [
        "import pandas\n",
        "import graphviz\n",
        "from sklearn.metrics import classification_report, confusion_matrix\n",
        "from sklearn import tree\n",
        "\n",
        "from task3_format_data import auto_csv_to_df, reformat_auto_data_vals\n",
        "\n",
        "pandas.options.mode.chained_assignment = None  # default='warn'\n",
        "\n",
        "USED_AUTO_DATA_PATH = \"/content/UsedAutoRELEVATEfirst10000-noLatLong.csv\"\n",
        "\n",
        "# Format data\n",
        "auto_df = auto_csv_to_df(USED_AUTO_DATA_PATH)\n",
        "auto_df = reformat_auto_data_vals(auto_df)\n",
        "\n",
        "# keep only selected attributes\n",
        "x_data = auto_df.loc[:, (\n",
        "    'BehaviorBank: Internet/Online Subscriber',\n",
        "    'BehaviorBank: Donates to Environmental Causes',\n",
        "    'MOR Bank Religious Contributor',\n",
        "    'Rural Urban County Size Code',\n",
        "    'BehaviorBank: Interest in Foreign Travel',\n",
        "    'Ethnic Insight - Experian Group Code - Use this for group',\n",
        "    'BehaviorBank: Interest in Automotive',\n",
        "    'MOR Bank - Upscale Merch Buyer',\n",
        "    'Dwelling Type',\n",
        "    'MOR Bank Do-It-Yourselfers',\n",
        "    'MOR Bank Male Sports Magazine',\n",
        "    'BehaviorBank: Interest in Reading',\n",
        "    'BehaviorBank: Interest in Travel',\n",
        "    'Home Heat Indicator',\n",
        "    'BehaviorBank: Cat Enthusiast',\n",
        "    'BehaviorBank: Interest in Domestic Travel',\n",
        "    'Home Fireplaces',\n",
        "    'Home Property Indicator',\n",
        "    'Person Education',\n",
        "    'Gender Code',\n",
        "    'Presence of E-mail',\n",
        "    'Homeowner Probability Model')]\n",
        "\n",
        "# replace string codes with numerical values\n",
        "x_data.loc[:, 'BehaviorBank: Internet/Online Subscriber'].replace({'U': 0, 'Y': 1}, value=None, inplace=True)\n",
        "x_data.loc[:, 'BehaviorBank: Donates to Environmental Causes'].replace({'U': 0, 'Y': 1}, value=None, inplace=True)\n",
        "x_data.loc[:, 'BehaviorBank: Interest in Foreign Travel'].replace({'U': 0, 'Y': 1}, value=None, inplace=True)\n",
        "x_data.loc[:, 'BehaviorBank: Interest in Automotive'].replace({'U': 0, 'Y': 1}, value=None, inplace=True)\n",
        "x_data.loc[:, 'BehaviorBank: Interest in Reading'].replace({'U': 0, 'Y': 1}, value=None, inplace=True)\n",
        "x_data.loc[:, 'BehaviorBank: Interest in Travel'].replace({'U': 0, 'Y': 1}, value=None, inplace=True)\n",
        "x_data.loc[:, 'BehaviorBank: Cat Enthusiast'].replace({'U': 0, 'Y': 1}, value=None, inplace=True)\n",
        "x_data.loc[:, 'BehaviorBank: Interest in Domestic Travel'].replace({'U': 0, 'Y': 1}, value=None, inplace=True)\n",
        "x_data.loc[:, 'Presence of E-mail'].replace({'U': 0, 'Y': 1}, value=None, inplace=True)\n",
        "x_data.loc[:, 'Dwelling Type'].replace({'A': 1, 'M': 2, 'P': 3, 'S': 4}, value=None, inplace=True)\n",
        "x_data.loc[:, 'Gender Code'].replace({'B': 1, 'F': 2, 'M': 3, 'U': 4, 'A': 5}, value=None, inplace=True)\n",
        "x_data.loc[:, 'Homeowner Probability Model'].replace({0: 1, 101: 2, 102: 3}, value=None, inplace=True)\n",
        "\n",
        "# fill nan values with -1\n",
        "x_data.fillna(0, inplace=True)\n",
        "\n",
        "y_label = auto_df[['Vehicle Type']]\n",
        "y_label['Vehicle Type'].replace({'CAR': 1, 'SUV': 2, 'TRUCK': 3, 'VAN': 4}, value=None, inplace=True)\n",
        "\n",
        "x_data_training = x_data.iloc[1:7000]\n",
        "x_data_testing = x_data.iloc[7001:]\n",
        "\n",
        "y_label_training = y_label.iloc[1:7000]\n",
        "y_label_testing = y_label.iloc[7001:]\n",
        "\n",
        "trials_list = []\n",
        "\n",
        "max_acc_val = 0\n",
        "\n",
        "for depth in range(1, 40):\n",
        "    for min_samp in range(2, 20):\n",
        "        for max_feat in [None, 'auto', 'sqrt', 'log2']:\n",
        "            clf = tree.DecisionTreeClassifier(\n",
        "                max_depth=depth,\n",
        "                min_samples_split=min_samp,\n",
        "                max_features=max_feat,\n",
        "            )\n",
        "            clf = clf.fit(x_data_training, y_label_training)\n",
        "\n",
        "            depth = clf.get_depth()\n",
        "\n",
        "            y_pred = clf.predict(x_data_testing)\n",
        "            accuracy = accuracy_score(y_label_testing.values, y_pred)\n",
        "\n",
        "            if accuracy > max_acc_val:\n",
        "                max_acc_val = accuracy\n",
        "                max_clf = clf\n",
        "\n",
        "            trials_list.append(\n",
        "                {\n",
        "                    'accuracy': accuracy,\n",
        "                    'max_depth': depth,\n",
        "                    'min_samples_split': min_samp,\n",
        "                    'max_features': max_feat\n",
        "                }\n",
        "            )\n",
        "\n",
        "trials_list = sorted(trials_list, key=lambda i: i['accuracy'])\n",
        "trial_max_acc = trials_list[-1]\n",
        "trial_min_acc = trials_list[0]\n",
        "trials_count = len(trials_list)\n",
        "\n",
        "print(f\"number of trials: {trials_count}\\n\")\n",
        "print(f\"min accuracy trial:\\naccuracy: {trial_min_acc['accuracy']}\\nmax_depth: {trial_min_acc['max_depth']}\\nmin_samples_split: {trial_min_acc['min_samples_split']}\\nmax_features: {trial_min_acc['max_features']}\\n\")\n",
        "print(f\"max accuracy trial:\\naccuracy: {trial_max_acc['accuracy']}\\nmax_depth: {trial_max_acc['max_depth']}\\nmin_samples_split: {trial_max_acc['min_samples_split']}\\nmax_features: {trial_max_acc['max_features']}\\n\\n\")\n",
        "\n",
        "y_pred = max_clf.predict(x_data_testing)\n",
        "accuracy = accuracy_score(y_label_testing.values, y_pred)\n"
      ],
      "execution_count": 16,
      "outputs": [
        {
          "output_type": "stream",
          "text": [
            "number of trials: 2808\n",
            "\n",
            "min accuracy trial:\n",
            "accuracy: 0.4696464309539693\n",
            "max_depth: 27\n",
            "min_samples_split: 2\n",
            "max_features: None\n",
            "\n",
            "max accuracy trial:\n",
            "accuracy: 0.5510340226817878\n",
            "max_depth: 6\n",
            "min_samples_split: 5\n",
            "max_features: sqrt\n",
            "\n",
            "\n"
          ],
          "name": "stdout"
        }
      ]
    },
    {
      "cell_type": "markdown",
      "metadata": {
        "id": "93PffPbDAPOa",
        "colab_type": "text"
      },
      "source": [
        "#### *Accuracy Check with Bad Data*\n",
        "\n",
        "Because the accuracy ratios were so low in the initial test. A purposefully bad check was implemented. This decision tree classifier would guess ‘Car’ for every label prediction in the testing data. This proved to be on the high end of the original classification, coming out with 55% accuracy ratio. This meant that the hand-selected attributes were worse in the case of decision tree classification than just guessing ‘Car’. This means that there was zero correlation between those attributes and the vehicle type a customer bought.\n"
      ]
    },
    {
      "cell_type": "code",
      "metadata": {
        "id": "wslj-no8AnB1",
        "colab_type": "code",
        "colab": {
          "base_uri": "https://localhost:8080/",
          "height": 68
        },
        "outputId": "09e5dbfd-6c7e-46cc-ef0b-8ce81df26ba7"
      },
      "source": [
        "\"\"\"\n",
        "Test on a zero array of the same dimensions as the regular training data array.\n",
        "\"\"\"\n",
        "\n",
        "num_rows = auto_df.shape[0]\n",
        "zeros = np.zeros(shape=(num_rows, 22))\n",
        "zdf = pandas.DataFrame(zeros)\n",
        "x_data_blank = zdf\n",
        "\n",
        "x_data_training_blank = x_data_blank[1:7000]\n",
        "\n",
        "clf_blank = tree.DecisionTreeClassifier()\n",
        "clf_blank = clf_blank.fit(x_data_training_blank, y_label_training)\n",
        "\n",
        "depth = clf_blank.get_depth()\n",
        "\n",
        "y_pred = clf_blank.predict(x_data_testing)\n",
        "accuracy = accuracy_score(y_label_testing.values, y_pred)\n",
        "\n",
        "print(f\"depth of tree: {depth}\")\n",
        "print(f\"prediction accuracy: {accuracy}\\n\")"
      ],
      "execution_count": 17,
      "outputs": [
        {
          "output_type": "stream",
          "text": [
            "depth of tree: 0\n",
            "prediction accuracy: 0.5470313542361575\n",
            "\n"
          ],
          "name": "stdout"
        }
      ]
    },
    {
      "cell_type": "markdown",
      "metadata": {
        "id": "rq_g9nbIBInc",
        "colab_type": "text"
      },
      "source": [
        "#### *Attributes with Less Than 50% NAN Values*\n",
        "\n",
        "In order to prune the data and attempt to get higher accuracy all attributes with less than 50% NaN values were selected to be in the training and testing datasets. In order to test customer behavioral traits, all attributes relating to the vehicle purchased were removed.\n",
        "\n",
        "This resulted in a drop of accuracy by the decision tree classifier to around 35%.\n"
      ]
    },
    {
      "cell_type": "code",
      "metadata": {
        "id": "48bWSuH5B_qP",
        "colab_type": "code",
        "colab": {
          "base_uri": "https://localhost:8080/",
          "height": 68
        },
        "outputId": "4b1257b8-2e4e-4eb8-f8d0-b52d7a475fdd"
      },
      "source": [
        "from task3_format_data import df_perc_nan_less_than, categorical_to_numerical, column_percent_nan\n",
        "\n",
        "auto_df = auto_csv_to_df(USED_AUTO_DATA_PATH)\n",
        "auto_df = reformat_auto_data_vals(auto_df)\n",
        "\n",
        "# keep only columns with less than 50% nans\n",
        "filtered_df = df_perc_nan_less_than(auto_df, 0.5)\n",
        "\n",
        "# convert categorical columns to numerical values\n",
        "filtered_df = categorical_to_numerical(filtered_df)\n",
        "\n",
        "names = list(filtered_df.columns)\n",
        "\n",
        "x_data = filtered_df\n",
        "x_data = x_data.drop(\n",
        "    ['Acct#',\n",
        "     'Model 1',\n",
        "     'Engine Cylinders',\n",
        "     'Vehicle 1 Trim',\n",
        "     'Engine Size',\n",
        "     'Drive Type',\n",
        "     'Fuel Type',\n",
        "     'Make 1',\n",
        "     'Engine Block',\n",
        "     'Year 1',\n",
        "     'Vehicle Type'\n",
        "     ], axis=1\n",
        ")\n",
        "y_label = filtered_df[['Vehicle Type']]\n",
        "\n",
        "x_data_training = x_data.iloc[1:7000]\n",
        "x_data_testing = x_data.iloc[7001:]\n",
        "\n",
        "y_label_training = y_label.iloc[1:7000]\n",
        "y_label_testing = y_label.iloc[7001:]\n",
        "\n",
        "clf = tree.DecisionTreeClassifier()\n",
        "clf = clf.fit(x_data_training, y_label_training)\n",
        "\n",
        "depth = clf.get_depth()\n",
        "\n",
        "y_pred = clf.predict(x_data_testing)\n",
        "accuracy = accuracy_score(y_label_testing.values, y_pred)\n",
        "\n",
        "print(f\"depth of tree: {depth}\")\n",
        "print(f\"prediction accuracy: {accuracy}\")\n",
        "print(f\"number of features: {clf.n_features_}\")"
      ],
      "execution_count": 18,
      "outputs": [
        {
          "output_type": "stream",
          "text": [
            "depth of tree: 53\n",
            "prediction accuracy: 0.37658438959306206\n",
            "number of features: 195\n"
          ],
          "name": "stdout"
        }
      ]
    },
    {
      "cell_type": "markdown",
      "metadata": {
        "id": "xIVvfHqSERk0",
        "colab_type": "text"
      },
      "source": [
        "In an attempt to further improve the accuracy, feature selection was implemented in the training set with the threshold for feature importance being greater than 0.1. Now, the number of features in the set was 2.\n",
        "\n",
        "This increased the accuracy to about 40%, which was better than the previous run but still worse than the hand-selected attributes.\n"
      ]
    },
    {
      "cell_type": "code",
      "metadata": {
        "id": "IOphK9BYESoO",
        "colab_type": "code",
        "colab": {
          "base_uri": "https://localhost:8080/",
          "height": 68
        },
        "outputId": "67de12d7-4005-49a1-fe8a-c27d21e52cd3"
      },
      "source": [
        "feature_importance = clf.feature_importances_\n",
        "important_features_cols = []\n",
        "for i, v in enumerate(list(feature_importance)):\n",
        "    important_features_cols.append((i, v))\n",
        "important_features_cols.sort(key=lambda x: x[1], reverse=True)\n",
        "\n",
        "names = list(x_data_testing.columns)\n",
        "important_features_cols = [i for i in important_features_cols if i[1] > 0.1]\n",
        "\n",
        "names_filtered = []\n",
        "for i in important_features_cols:\n",
        "    names_filtered.append(names[i[0]])\n",
        "\n",
        "x_data_2 = x_data[names_filtered]\n",
        "x_data_2_training = x_data_2.iloc[1:7000]\n",
        "x_data_2_testing = x_data_2.iloc[7001:]\n",
        "\n",
        "clf2 = tree.DecisionTreeClassifier()\n",
        "clf2 = clf2.fit(x_data_2_training, y_label_training)\n",
        "\n",
        "depth = clf2.get_depth()\n",
        "\n",
        "y_pred = clf2.predict(x_data_2_testing)\n",
        "accuracy = accuracy_score(y_label_testing.values, y_pred)\n",
        "\n",
        "print(f\"depth of tree: {depth}\")\n",
        "print(f\"prediction accuracy: {accuracy}\")\n",
        "print(f\"number of features: {clf2.n_features_}\")"
      ],
      "execution_count": 19,
      "outputs": [
        {
          "output_type": "stream",
          "text": [
            "depth of tree: 36\n",
            "prediction accuracy: 0.3749166110740494\n",
            "number of features: 3\n"
          ],
          "name": "stdout"
        }
      ]
    },
    {
      "cell_type": "markdown",
      "metadata": {
        "id": "nRUW2eZ_EyHP",
        "colab_type": "text"
      },
      "source": [
        "It was clear that the behavioral correlations weren’t high enough within the dataset, so vehicle attributes were put back in (such as engine size and engine cylinders). Without feature selection, 201 features were in this tree.\n",
        "\n",
        "This resulted in accuracy around 70%, which was a vast improvement, but also should be expected since now the car information should have strong correlations.\n"
      ]
    },
    {
      "cell_type": "code",
      "metadata": {
        "id": "qBP3OMUoEylC",
        "colab_type": "code",
        "colab": {
          "base_uri": "https://localhost:8080/",
          "height": 68
        },
        "outputId": "8d6d919e-33c0-495b-d987-8369a728f544"
      },
      "source": [
        "x_data_3 = filtered_df\n",
        "x_data_3 = x_data_3.drop(\n",
        "    ['Acct#',\n",
        "     'Model 1',\n",
        "     'Vehicle 1 Trim',\n",
        "     'Make 1',\n",
        "     'Vehicle Type'\n",
        "     ], axis=1\n",
        ")\n",
        "\n",
        "x_data_3_training = x_data_3.iloc[1:7000]\n",
        "x_data_3_testing = x_data_3.iloc[7001:]\n",
        "\n",
        "clf3 = tree.DecisionTreeClassifier()\n",
        "clf3 = clf3.fit(x_data_3_training, y_label_training)\n",
        "\n",
        "depth = clf3.get_depth()\n",
        "\n",
        "y_pred = clf3.predict(x_data_3_testing)\n",
        "accuracy = accuracy_score(y_label_testing.values, y_pred)\n",
        "\n",
        "print(f\"depth of tree: {depth}\")\n",
        "print(f\"prediction accuracy: {accuracy}\")\n",
        "print(f\"number of features: {clf3.n_features_}\")"
      ],
      "execution_count": 20,
      "outputs": [
        {
          "output_type": "stream",
          "text": [
            "depth of tree: 32\n",
            "prediction accuracy: 0.6967978652434956\n",
            "number of features: 201\n"
          ],
          "name": "stdout"
        }
      ]
    },
    {
      "cell_type": "markdown",
      "metadata": {
        "id": "khpLnJzWFBuv",
        "colab_type": "text"
      },
      "source": [
        "The same experiment was run again allowing only attributes with less than 40% NaN values. The features that were in the tree were:\n",
        "\n",
        "* Carrier Route\n",
        "* Transaction Date\n",
        "* Engine Size\n",
        "* Engine Cylinders\n",
        "* Drive Type\n",
        "* Fuel Type\n",
        "* Delivery Point Check Digit\n",
        "* Phone DNC Status\n",
        "* Engine Block\n",
        "* Year 1\n",
        "* Delivery Point\n",
        "* Gender Code\n",
        "* Wireless Phone DNC Status\n",
        "\n",
        "The accuracy was around mid 70's%, which is an even further improvement."
      ]
    },
    {
      "cell_type": "code",
      "metadata": {
        "id": "Ge09H_gDGix8",
        "colab_type": "code",
        "colab": {
          "base_uri": "https://localhost:8080/",
          "height": 68
        },
        "outputId": "bb9d0786-a3b5-45e9-8675-8d6f8677bf1f"
      },
      "source": [
        "auto_df = auto_csv_to_df(USED_AUTO_DATA_PATH)\n",
        "auto_df = reformat_auto_data_vals(auto_df)\n",
        "\n",
        "# keep only columns with less than 40% nans\n",
        "filtered_df = df_perc_nan_less_than(auto_df, 0.4)\n",
        "\n",
        "# convert categorical columns to numerical values\n",
        "filtered_df = categorical_to_numerical(filtered_df)\n",
        "\n",
        "x_data = filtered_df\n",
        "x_data = x_data.drop(\n",
        "    ['Acct#',\n",
        "     'Model 1',\n",
        "     'Vehicle 1 Trim',\n",
        "     'Make 1',\n",
        "     'Vehicle Type'\n",
        "     ], axis=1\n",
        ")\n",
        "y_label = filtered_df[['Vehicle Type']]\n",
        "\n",
        "x_data_training = x_data.iloc[1:7000]\n",
        "x_data_testing = x_data.iloc[7001:]\n",
        "\n",
        "y_label_training = y_label.iloc[1:7000]\n",
        "y_label_testing = y_label.iloc[7001:]\n",
        "\n",
        "clf = tree.DecisionTreeClassifier()\n",
        "clf = clf.fit(x_data_training, y_label_training)\n",
        "\n",
        "depth = clf.get_depth()\n",
        "\n",
        "y_pred = clf.predict(x_data_testing)\n",
        "accuracy = accuracy_score(y_label_testing.values, y_pred)\n",
        "\n",
        "print(f\"depth of tree: {depth}\")\n",
        "print(f\"prediction accuracy: {accuracy}\")\n",
        "print(f\"number of features: {clf.n_features_}\")"
      ],
      "execution_count": 21,
      "outputs": [
        {
          "output_type": "stream",
          "text": [
            "depth of tree: 25\n",
            "prediction accuracy: 0.71447631754503\n",
            "number of features: 13\n"
          ],
          "name": "stdout"
        }
      ]
    },
    {
      "cell_type": "markdown",
      "metadata": {
        "id": "VaaiE9jWHjqT",
        "colab_type": "text"
      },
      "source": [
        "### **Conclusion**\n",
        "\n",
        "The conclusion of these tests is that there is no correlation within this dataset between behavioral traits of customers and the vehicle type they bough. There were correlations between vehicle information, which is to be expected as they can only build a vehicle type with so many options. The dataset itself is very sparse and has inconsistencies within it that could attribute to this total lack of correlation."
      ]
    },
    {
      "cell_type": "markdown",
      "metadata": {
        "id": "_rS-9gkG3HoD",
        "colab_type": "text"
      },
      "source": [
        "## Apriori Algorithm Pattern Recognition\n",
        "### Coding Implemented by Team Member: Chris Parks\n",
        "\n"
      ]
    },
    {
      "cell_type": "markdown",
      "metadata": {
        "id": "K_Ynqp_9Q50E",
        "colab_type": "text"
      },
      "source": [
        "### **Approach**"
      ]
    },
    {
      "cell_type": "markdown",
      "metadata": {
        "id": "-CPhbRJ3RBeg",
        "colab_type": "text"
      },
      "source": [
        "#### *Hypothesis*\n",
        "\n",
        "The goal for the Apriori pattern recognition is to discover hidden relationships between hand-selected customer attributes and create distinct subgroups that the customers could be assigned to. The Apriori algorithm was selected due to the fact that it can search all permutations of the attributes and generate association rules."
      ]
    },
    {
      "cell_type": "markdown",
      "metadata": {
        "id": "A8O3I7jcRG4T",
        "colab_type": "text"
      },
      "source": [
        "#### *Data Preprocessing*\n",
        "\n",
        "The following fields were hand-selected based on relevance to the customer:\n",
        "\n",
        "* BehaviorBank: Cat Enthusiast\n",
        "* BehaviorBank: Computer Owner\n",
        "* BehaviorBank: Contributes to Charities\n",
        "* BehaviorBank: Cruise Enthusiasts\n",
        "* BehaviorBank: Dog Enthusiasts\n",
        "* BehaviorBank: Donates to Environmental Causes\n",
        "* BehaviorBank: Home Decorating/Furnishing\n",
        "* BehaviorBank: Interest in Automotive\n",
        "* BehaviorBank: Interest in Domestic Travel\n",
        "* BehaviorBank: Interest in Fitness\n",
        "* BehaviorBank: Interest in Foreign Travel\n",
        "* BehaviorBank: Interest in Gardening\n",
        "* BehaviorBank: Interest in Gourmet Cooking\n",
        "* BehaviorBank: Interest in Reading\n",
        "* BehaviorBank: Interest in Sports\n",
        "* BehaviorBank: Interest in the Outdoors\n",
        "* BehaviorBank: Interest in Travel\n",
        "* BehaviorBank: Internet/Online Subscriber\n",
        "* BehaviorBank: Invest in Mutual Funds/Annuities\n",
        "* BehaviorBank: Investor\n",
        "* BehaviorBank: Pet Enthusiast\n",
        "* BehaviorBank: Presence of Credit Card\n",
        "* BehaviorBank: Presence of Premium Credit Card\n",
        "* BehaviorBank: Purchase via On line\n",
        "* BehaviorBank: Purchased Through the Mail\n",
        "* Drive Type\n",
        "* Dwelling Unit Size\n",
        "* Engine Size\n",
        "* Estimated Current Home Value\n",
        "* Estimated Equity - Amount in thousands\n",
        "* Estimated Mortgage Amount - Amount in thousands\n",
        "* Ethnic Insight - Alphabetic Religion Code\n",
        "* Gender Code\n",
        "* Person Exact Age\n",
        "* Person Marital Status\n",
        "* Presence of Children Type\n",
        "* Presence of E-mail\n",
        "* Vehicle Type\n",
        "* Year 1\n",
        "\n",
        "The data is formatted by taking each field as its own data frame and converting continuous fields into discrete fields. The reason for this is so that the Apriori algorithm can run over the data successfully (as it treats all data as discrete anyways). \n",
        "\n",
        "The BehaviorBank fields are defaulted to no if they are left empty.\n",
        "\n",
        "Due to time constraints, only 2500 records are randomly selected from the dataset and used by the Apriori algorithm to generate association rules.\n"
      ]
    },
    {
      "cell_type": "markdown",
      "metadata": {
        "id": "qzhWb-d1RNno",
        "colab_type": "text"
      },
      "source": [
        "#### *Results*\n",
        "\n",
        "##### **WARNING: THIS ALGORITHM WILL TAKE A LONG TIME TO COMPLETE.** \n",
        "\n",
        "<u>When prompted, type 'yes' to proceed with the calculations or 'no' to print an example ruleset from a previous run. Using the previous run will not take much time as the algorithm does not have to run.</u>"
      ]
    },
    {
      "cell_type": "code",
      "metadata": {
        "id": "wFSL4FTh2074",
        "colab_type": "code",
        "colab": {
          "base_uri": "https://localhost:8080/",
          "height": 1000
        },
        "outputId": "74dc8265-bd35-410b-82ed-c4fbabf046dc"
      },
      "source": [
        "!pip install apyori\n",
        "\n",
        "import numpy as np\n",
        "import matplotlib.pyplot as plt\n",
        "import pandas as pd\n",
        "import csv\n",
        "from apyori import apriori\n",
        "import random\n",
        "\n",
        "path = \"/content/data_nochanges.csv\"\n",
        "numLines = 2500\n",
        "\n",
        "minsup = 0.25\n",
        "mincon = 0.3\n",
        "minlift = 1.8\n",
        "maxlen = 5\n",
        "\n",
        "useful_columns = [6,7,8,9,10,11,12,13,14,15,16,17,18,19,20,21,22,23,24,25,26,27,28,29,30,93,96,99,101,103,109,112,124,255,257,264,265,277,279]\n",
        "useless_labels = ['unknown']\n",
        "\n",
        "labels = []\n",
        "data = []\n",
        "data_index = 0\n",
        "\n",
        "typed_answer = False\n",
        "\n",
        "print(\"Perform calculations? (Type 'yes' to proceed, type 'no' to print a previous run's results and save time)\")\n",
        "\n",
        "while(not typed_answer):\n",
        "    answer = input().lower()\n",
        "    if(answer == 'yes' or answer == 'no'):\n",
        "        typed_answer = True\n",
        "\n",
        "if(answer == 'yes'):\n",
        "    with open(path,newline='') as csvfile:\n",
        "        spamreader = csv.reader(csvfile,delimiter=',',quotechar='|')\n",
        "        for i, row in enumerate(spamreader):\n",
        "            if(i == 0):\n",
        "                for j,x in enumerate(row):\n",
        "                    if(j in useful_columns):\n",
        "                        s = x\n",
        "                        s = s.replace('BehaviorBank: ','')\n",
        "                        labels.append(s)\n",
        "            else:\n",
        "                data.append([])\n",
        "                for j,x in enumerate(row):\n",
        "                    if(j in useful_columns):\n",
        "                        data[data_index].append(x)\n",
        "                data_index+=1\n",
        "    all_values = []\n",
        "    d_dwelling = {'A':'1','B':'2','C':'3','D':'4','E':'5-9','F':'10-19','G':'20-49','H':'50-100','I':'101+'}\n",
        "    d_religion = {'B':'Buddhist','C':'Catholic','E':'Ethiopian Orthodox','G':'Greek Orthodox','H':'Hindu','I':'Muslim','J':'Jewish','K':'Sikh','L':'Lutheran','M':'Mormon','O':'Eastern Orthodox','P':'Protestant','S':'Shinto','X':'unknown'}\n",
        "    d_married = {'5S':'S', '1M':'M', '5U':'unknown', '0U':'unknown', '5M':'M'}\n",
        "    for i,x in enumerate(labels):\n",
        "        for j,y in enumerate(data):\n",
        "            if(i == 26):\n",
        "                if(y[i] in d_dwelling):\n",
        "                    data[j][i] = d_dwelling[y[i]]\n",
        "                else:\n",
        "                    data[j][i] = \"unknown\"\n",
        "            elif(i == 34):\n",
        "                if(y[i] in d_married):\n",
        "                    data[j][i] = d_married[y[i]]\n",
        "                else:\n",
        "                    data[j][i] = \"unknown\"\n",
        "            elif((i >= 0 and i <= 24) or i == 35):\n",
        "                if(y[i] == 'U'):\n",
        "                    data[j][i] = 'unknown'\n",
        "                elif(y[i] == ''):\n",
        "                    data[j][i] = \"unknown\"\n",
        "            elif(i == 36):\n",
        "                if(y[i] == ''):\n",
        "                    data[j][i] = 'N'\n",
        "            elif(i == 27):\n",
        "                if(data[j][i] == ''):\n",
        "                    data[j][i] = \"unknown\"\n",
        "                else:\n",
        "                    data[j][i] = round(float(data[j][i]) * 1,0) / 1\n",
        "            elif(i == 31):\n",
        "                if(y[i] in d_religion):\n",
        "                    data[j][i] = d_religion[y[i]]\n",
        "                else:\n",
        "                    data[j][i] = \"unknown\"\n",
        "            elif(i == 32):\n",
        "                if(y[i] == \"U\"):\n",
        "                    data[j][i] = \"unknown\"\n",
        "            elif(i == 33 or i == 38):\n",
        "                if(data[j][i] == ''):\n",
        "                    data[j][i] = \"unknown\"\n",
        "                else:\n",
        "                    data[j][i] = round(float(data[j][i]) / 10,0) * 10\n",
        "            elif(i == 28):\n",
        "                if(data[j][i] == ''):\n",
        "                    data[j][i] = \"unknown\"\n",
        "                else:\n",
        "                    data[j][i] = round(float(data[j][i]) / 1000000,0) * 1000000\n",
        "            elif(i == 29):\n",
        "                if(data[j][i] == ''):\n",
        "                    data[j][i] = \"unknown\"\n",
        "                else:\n",
        "                    data[j][i] = round(float(data[j][i]) / 200,0) * 200\n",
        "            elif(i == 30):\n",
        "                if(data[j][i] == ''):\n",
        "                    data[j][i] = \"unknown\"\n",
        "                else:\n",
        "                    data[j][i] = round(float(data[j][i]) / 200,0) * 200\n",
        "            elif(y[i] == ''):\n",
        "                data[j][i] = \"unknown\"\n",
        "    for i,x in enumerate(labels):\n",
        "        arr = []\n",
        "        for j,y in enumerate(data):\n",
        "            arr.append(y[i])\n",
        "        all_values.append(list(set(arr)))\n",
        "    #records = data\n",
        "    for i,x in enumerate(data):\n",
        "        for j, y in enumerate(x):\n",
        "            data[i][j] = labels[j] + \" = \" + str(x[j])\n",
        "\n",
        "    random.shuffle(data)\n",
        "    data = data[:numLines]\n",
        "    \n",
        "    print(\"Done with append: \" + str(len(data)) + \" records\")\n",
        "    print(\"Calculating: Please wait. Prepare for a long wait time...\")\n",
        "    #int(\"Possible values:\")\n",
        "    #for x in all_values:\n",
        "    #    print(x)\n",
        "    \n",
        "    association_rules = apriori(data, min_support=minsup, min_confidence=mincon, min_lift=minlift, max_length=maxlen)\n",
        "    association_results = list(association_rules)\n",
        "\n",
        "    print(\"Rules:\")\n",
        "    for item in association_results:\n",
        "        cont = True\n",
        "        for x in useless_labels:\n",
        "            for y in item[0]:\n",
        "                if(y.count(x)):\n",
        "                    cont = False\n",
        "                    break\n",
        "            if(cont == False):\n",
        "                break\n",
        "        if(cont):\n",
        "            print(str(list(item[2][0][0])) + \" -> \" + str(list(item[2][0][1])) + \" (confidence = \" + str(round(item[2][0][2],3)) + \", lift = \" + str(round(item[2][0][3],3)) + \", support = \" + str(round(item[1],3)) + \")\")\n",
        "elif(answer == 'no'):\n",
        "    res = open(\"/content/q3_results_18.txt\")\n",
        "    print(res.read())\n",
        "    res.close()"
      ],
      "execution_count": 22,
      "outputs": [
        {
          "output_type": "stream",
          "text": [
            "Collecting apyori\n",
            "  Downloading https://files.pythonhosted.org/packages/5e/62/5ffde5c473ea4b033490617ec5caa80d59804875ad3c3c57c0976533a21a/apyori-1.1.2.tar.gz\n",
            "Building wheels for collected packages: apyori\n",
            "  Building wheel for apyori (setup.py) ... \u001b[?25l\u001b[?25hdone\n",
            "  Created wheel for apyori: filename=apyori-1.1.2-cp36-none-any.whl size=5975 sha256=814844f8dd88f4b4beb15e835a9ce29a07f34b46fc3da43bf755f39e4384f20f\n",
            "  Stored in directory: /root/.cache/pip/wheels/5d/92/bb/474bbadbc8c0062b9eb168f69982a0443263f8ab1711a8cad0\n",
            "Successfully built apyori\n",
            "Installing collected packages: apyori\n",
            "Successfully installed apyori-1.1.2\n",
            "Perform calculations? (Type 'yes' to proceed, type 'no' to print a previous run's results and save time)\n",
            "no\n",
            "Parameters:\n",
            "Minimum Support: 0.25\n",
            "Minimum Confidence: 0.3\n",
            "Minimum Lift: 1.8\n",
            "Maximum Set Size: 5\n",
            "\n",
            "['Computer Owner = Y'] -> ['Dwelling Unit Size = 1'] (confidence = 0.877, lift = 1.99, support = 0.334)\n",
            "['Computer Owner = Y'] -> ['Estimated Current Home Value = 0.0'] (confidence = 0.916, lift = 1.862, support = 0.349)\n",
            "['Computer Owner = Y'] -> ['Internet/Online Subscriber = Y'] (confidence = 0.937, lift = 2.623, support = 0.357)\n",
            "['Computer Owner = Y'] -> ['Person Marital Status = M'] (confidence = 0.694, lift = 2.074, support = 0.264)\n",
            "['Computer Owner = Y'] -> ['Presence of Credit Card = Y'] (confidence = 0.82, lift = 2.587, support = 0.312)\n",
            "['Computer Owner = Y'] -> ['Purchase via On line = Y'] (confidence = 0.932, lift = 2.623, support = 0.355)\n",
            "['Computer Owner = Y'] -> ['Purchased Through the Mail = Y'] (confidence = 0.94, lift = 2.541, support = 0.358)\n",
            "['Dwelling Unit Size = 1'] -> ['Estimated Current Home Value = 0.0'] (confidence = 0.92, lift = 1.87, support = 0.406)\n",
            "['Dwelling Unit Size = 1'] -> ['Ethnic Insight - Alphabetic Religion Code = Protestant'] (confidence = 0.622, lift = 1.942, support = 0.274)\n",
            "['Dwelling Unit Size = 1'] -> ['Internet/Online Subscriber = Y'] (confidence = 0.711, lift = 1.989, support = 0.313)\n",
            "['Dwelling Unit Size = 1'] -> ['Person Marital Status = M'] (confidence = 0.701, lift = 2.095, support = 0.309)\n",
            "['Dwelling Unit Size = 1'] -> ['Presence of Credit Card = Y'] (confidence = 0.636, lift = 2.008, support = 0.28)\n",
            "['Dwelling Unit Size = 1'] -> ['Purchase via On line = Y'] (confidence = 0.707, lift = 1.99, support = 0.312)\n",
            "['Dwelling Unit Size = 1'] -> ['Purchased Through the Mail = Y'] (confidence = 0.735, lift = 1.987, support = 0.324)\n",
            "['Estimated Current Home Value = 0.0'] -> ['Estimated Equity - Amount in thousands = 0.0'] (confidence = 0.698, lift = 2.023, support = 0.344)\n",
            "['Estimated Current Home Value = 0.0'] -> ['Estimated Mortgage Amount - Amount in thousands = 0.0'] (confidence = 0.688, lift = 1.974, support = 0.338)\n",
            "['Estimated Current Home Value = 0.0'] -> ['Ethnic Insight - Alphabetic Religion Code = Protestant'] (confidence = 0.608, lift = 1.9, support = 0.299)\n",
            "['Estimated Current Home Value = 0.0'] -> ['Internet/Online Subscriber = Y'] (confidence = 0.664, lift = 1.86, support = 0.327)\n",
            "['Estimated Current Home Value = 0.0'] -> ['Person Marital Status = M'] (confidence = 0.616, lift = 1.843, support = 0.303)\n",
            "['Estimated Current Home Value = 0.0'] -> ['Presence of Credit Card = Y'] (confidence = 0.583, lift = 1.84, support = 0.287)\n",
            "['Estimated Current Home Value = 0.0'] -> ['Purchase via On line = Y'] (confidence = 0.66, lift = 1.859, support = 0.325)\n",
            "['Estimated Current Home Value = 0.0'] -> ['Purchased Through the Mail = Y'] (confidence = 0.689, lift = 1.861, support = 0.339)\n",
            "['Internet/Online Subscriber = Y'] -> ['Person Marital Status = M'] (confidence = 0.703, lift = 2.103, support = 0.251)\n",
            "['Internet/Online Subscriber = Y'] -> ['Presence of Credit Card = Y'] (confidence = 0.863, lift = 2.725, support = 0.308)\n",
            "['Internet/Online Subscriber = Y'] -> ['Purchase via On line = Y'] (confidence = 0.994, lift = 2.8, support = 0.355)\n",
            "['Internet/Online Subscriber = Y'] -> ['Purchased Through the Mail = Y'] (confidence = 0.989, lift = 2.672, support = 0.353)\n",
            "['Person Marital Status = M'] -> ['Purchased Through the Mail = Y'] (confidence = 0.772, lift = 2.085, support = 0.258)\n",
            "['Presence of Credit Card = Y'] -> ['Purchase via On line = Y'] (confidence = 0.971, lift = 2.734, support = 0.308)\n",
            "['Presence of Credit Card = Y'] -> ['Purchased Through the Mail = Y'] (confidence = 0.99, lift = 2.675, support = 0.314)\n",
            "['Purchase via On line = Y'] -> ['Purchased Through the Mail = Y'] (confidence = 0.989, lift = 2.672, support = 0.351)\n",
            "['Computer Owner = Y'] -> ['Estimated Current Home Value = 0.0', 'Dwelling Unit Size = 1'] (confidence = 0.799, lift = 1.969, support = 0.304)\n",
            "['Computer Owner = Y'] -> ['Dwelling Unit Size = 1', 'Internet/Online Subscriber = Y'] (confidence = 0.822, lift = 2.623, support = 0.313)\n",
            "['Computer Owner = Y'] -> ['Dwelling Unit Size = 1', 'Presence of Credit Card = Y'] (confidence = 0.725, lift = 2.586, support = 0.276)\n",
            "['Computer Owner = Y'] -> ['Dwelling Unit Size = 1', 'Purchase via On line = Y'] (confidence = 0.817, lift = 2.623, support = 0.312)\n",
            "['Computer Owner = Y'] -> ['Dwelling Unit Size = 1', 'Purchased Through the Mail = Y'] (confidence = 0.827, lift = 2.552, support = 0.315)\n",
            "['Computer Owner = Y'] -> ['Estimated Current Home Value = 0.0', 'Internet/Online Subscriber = Y'] (confidence = 0.857, lift = 2.623, support = 0.327)\n",
            "['Computer Owner = Y'] -> ['Estimated Current Home Value = 0.0', 'Presence of Credit Card = Y'] (confidence = 0.741, lift = 2.583, support = 0.282)\n",
            "['Computer Owner = Y'] -> ['Estimated Current Home Value = 0.0', 'Purchase via On line = Y'] (confidence = 0.852, lift = 2.623, support = 0.325)\n",
            "['Computer Owner = Y'] -> ['Estimated Current Home Value = 0.0', 'Purchased Through the Mail = Y'] (confidence = 0.859, lift = 2.537, support = 0.328)\n",
            "['Computer Owner = Y'] -> ['Person Marital Status = M', 'Internet/Online Subscriber = Y'] (confidence = 0.659, lift = 2.623, support = 0.251)\n",
            "['Computer Owner = Y'] -> ['Presence of Credit Card = Y', 'Internet/Online Subscriber = Y'] (confidence = 0.809, lift = 2.623, support = 0.308)\n",
            "['Computer Owner = Y'] -> ['Purchase via On line = Y', 'Internet/Online Subscriber = Y'] (confidence = 0.932, lift = 2.623, support = 0.355)\n",
            "['Computer Owner = Y'] -> ['Internet/Online Subscriber = Y', 'Purchased Through the Mail = Y'] (confidence = 0.927, lift = 2.623, support = 0.353)\n",
            "['Computer Owner = Y'] -> ['Person Marital Status = M', 'Purchased Through the Mail = Y'] (confidence = 0.66, lift = 2.558, support = 0.252)\n",
            "['Computer Owner = Y'] -> ['Presence of Credit Card = Y', 'Purchase via On line = Y'] (confidence = 0.807, lift = 2.623, support = 0.308)\n",
            "['Computer Owner = Y'] -> ['Presence of Credit Card = Y', 'Purchased Through the Mail = Y'] (confidence = 0.812, lift = 2.59, support = 0.31)\n",
            "['Computer Owner = Y'] -> ['Purchase via On line = Y', 'Purchased Through the Mail = Y'] (confidence = 0.921, lift = 2.623, support = 0.351)\n",
            "['Engine Size = 2.0'] -> ['Vehicle Type = CAR', 'Drive Type = FWD'] (confidence = 0.789, lift = 1.802, support = 0.31)\n",
            "['Estimated Current Home Value = 0.0'] -> ['Dwelling Unit Size = 1', 'Estimated Equity - Amount in thousands = 0.0'] (confidence = 0.542, lift = 2.02, support = 0.267)\n",
            "['Estimated Current Home Value = 0.0'] -> ['Dwelling Unit Size = 1', 'Estimated Mortgage Amount - Amount in thousands = 0.0'] (confidence = 0.528, lift = 1.96, support = 0.26)\n",
            "['Dwelling Unit Size = 1'] -> ['Estimated Current Home Value = 0.0', 'Ethnic Insight - Alphabetic Religion Code = Protestant'] (confidence = 0.576, lift = 1.926, support = 0.254)\n",
            "['Dwelling Unit Size = 1'] -> ['Estimated Current Home Value = 0.0', 'Internet/Online Subscriber = Y'] (confidence = 0.644, lift = 1.971, support = 0.284)\n",
            "['Dwelling Unit Size = 1'] -> ['Estimated Current Home Value = 0.0', 'Person Marital Status = M'] (confidence = 0.635, lift = 2.095, support = 0.28)\n",
            "['Dwelling Unit Size = 1'] -> ['Estimated Current Home Value = 0.0', 'Presence of Credit Card = Y'] (confidence = 0.571, lift = 1.99, support = 0.252)\n",
            "['Dwelling Unit Size = 1'] -> ['Estimated Current Home Value = 0.0', 'Purchase via On line = Y'] (confidence = 0.641, lift = 1.972, support = 0.282)\n",
            "['Dwelling Unit Size = 1'] -> ['Estimated Current Home Value = 0.0', 'Purchased Through the Mail = Y'] (confidence = 0.667, lift = 1.969, support = 0.294)\n",
            "['Dwelling Unit Size = 1'] -> ['Estimated Current Home Value = 0.0', 'Year 1 = 2010.0'] (confidence = 0.618, lift = 1.864, support = 0.272)\n",
            "['Dwelling Unit Size = 1'] -> ['Presence of Credit Card = Y', 'Internet/Online Subscriber = Y'] (confidence = 0.618, lift = 2.004, support = 0.272)\n",
            "['Dwelling Unit Size = 1'] -> ['Purchase via On line = Y', 'Internet/Online Subscriber = Y'] (confidence = 0.707, lift = 1.99, support = 0.312)\n",
            "['Dwelling Unit Size = 1'] -> ['Internet/Online Subscriber = Y', 'Purchased Through the Mail = Y'] (confidence = 0.703, lift = 1.991, support = 0.31)\n",
            "['Dwelling Unit Size = 1'] -> ['Presence of Credit Card = Y', 'Purchase via On line = Y'] (confidence = 0.617, lift = 2.006, support = 0.272)\n",
            "['Dwelling Unit Size = 1'] -> ['Presence of Credit Card = Y', 'Purchased Through the Mail = Y'] (confidence = 0.631, lift = 2.011, support = 0.278)\n",
            "['Dwelling Unit Size = 1'] -> ['Purchase via On line = Y', 'Purchased Through the Mail = Y'] (confidence = 0.7, lift = 1.992, support = 0.308)\n",
            "['Estimated Current Home Value = 0.0'] -> ['Presence of Credit Card = Y', 'Internet/Online Subscriber = Y'] (confidence = 0.567, lift = 1.837, support = 0.279)\n",
            "['Estimated Current Home Value = 0.0'] -> ['Purchase via On line = Y', 'Internet/Online Subscriber = Y'] (confidence = 0.66, lift = 1.859, support = 0.325)\n",
            "['Estimated Current Home Value = 0.0'] -> ['Internet/Online Subscriber = Y', 'Purchased Through the Mail = Y'] (confidence = 0.656, lift = 1.858, support = 0.323)\n",
            "['Estimated Current Home Value = 0.0'] -> ['Presence of Credit Card = Y', 'Purchase via On line = Y'] (confidence = 0.565, lift = 1.837, support = 0.278)\n",
            "['Estimated Current Home Value = 0.0'] -> ['Presence of Credit Card = Y', 'Purchased Through the Mail = Y'] (confidence = 0.576, lift = 1.838, support = 0.284)\n",
            "['Estimated Current Home Value = 0.0'] -> ['Purchase via On line = Y', 'Purchased Through the Mail = Y'] (confidence = 0.652, lift = 1.857, support = 0.321)\n",
            "['Internet/Online Subscriber = Y'] -> ['Presence of Credit Card = Y', 'Purchase via On line = Y'] (confidence = 0.861, lift = 2.8, support = 0.308)\n",
            "['Internet/Online Subscriber = Y'] -> ['Presence of Credit Card = Y', 'Purchased Through the Mail = Y'] (confidence = 0.857, lift = 2.732, support = 0.306)\n",
            "['Internet/Online Subscriber = Y'] -> ['Purchase via On line = Y', 'Purchased Through the Mail = Y'] (confidence = 0.983, lift = 2.8, support = 0.351)\n",
            "['Presence of Credit Card = Y'] -> ['Purchase via On line = Y', 'Purchased Through the Mail = Y'] (confidence = 0.963, lift = 2.743, support = 0.305)\n",
            "['Computer Owner = Y'] -> ['Estimated Current Home Value = 0.0', 'Dwelling Unit Size = 1', 'Internet/Online Subscriber = Y'] (confidence = 0.745, lift = 2.623, support = 0.284)\n",
            "['Computer Owner = Y'] -> ['Estimated Current Home Value = 0.0', 'Dwelling Unit Size = 1', 'Purchase via On line = Y'] (confidence = 0.741, lift = 2.623, support = 0.282)\n",
            "['Computer Owner = Y'] -> ['Estimated Current Home Value = 0.0', 'Dwelling Unit Size = 1', 'Purchased Through the Mail = Y'] (confidence = 0.749, lift = 2.548, support = 0.286)\n",
            "['Computer Owner = Y'] -> ['Dwelling Unit Size = 1', 'Presence of Credit Card = Y', 'Internet/Online Subscriber = Y'] (confidence = 0.715, lift = 2.623, support = 0.272)\n",
            "['Computer Owner = Y'] -> ['Dwelling Unit Size = 1', 'Purchase via On line = Y', 'Internet/Online Subscriber = Y'] (confidence = 0.817, lift = 2.623, support = 0.312)\n",
            "['Computer Owner = Y'] -> ['Internet/Online Subscriber = Y', 'Dwelling Unit Size = 1', 'Purchased Through the Mail = Y'] (confidence = 0.813, lift = 2.623, support = 0.31)\n",
            "['Computer Owner = Y'] -> ['Dwelling Unit Size = 1', 'Presence of Credit Card = Y', 'Purchase via On line = Y'] (confidence = 0.714, lift = 2.623, support = 0.272)\n",
            "['Computer Owner = Y'] -> ['Dwelling Unit Size = 1', 'Presence of Credit Card = Y', 'Purchased Through the Mail = Y'] (confidence = 0.72, lift = 2.589, support = 0.274)\n",
            "['Computer Owner = Y'] -> ['Dwelling Unit Size = 1', 'Purchase via On line = Y', 'Purchased Through the Mail = Y'] (confidence = 0.809, lift = 2.623, support = 0.308)\n",
            "['Computer Owner = Y'] -> ['Estimated Current Home Value = 0.0', 'Presence of Credit Card = Y', 'Internet/Online Subscriber = Y'] (confidence = 0.731, lift = 2.623, support = 0.279)\n",
            "['Computer Owner = Y'] -> ['Estimated Current Home Value = 0.0', 'Purchase via On line = Y', 'Internet/Online Subscriber = Y'] (confidence = 0.852, lift = 2.623, support = 0.325)\n",
            "['Computer Owner = Y'] -> ['Estimated Current Home Value = 0.0', 'Internet/Online Subscriber = Y', 'Purchased Through the Mail = Y'] (confidence = 0.847, lift = 2.623, support = 0.323)\n",
            "['Computer Owner = Y'] -> ['Estimated Current Home Value = 0.0', 'Presence of Credit Card = Y', 'Purchase via On line = Y'] (confidence = 0.729, lift = 2.623, support = 0.278)\n",
            "['Computer Owner = Y'] -> ['Estimated Current Home Value = 0.0', 'Presence of Credit Card = Y', 'Purchased Through the Mail = Y'] (confidence = 0.733, lift = 2.586, support = 0.28)\n",
            "['Computer Owner = Y'] -> ['Estimated Current Home Value = 0.0', 'Purchase via On line = Y', 'Purchased Through the Mail = Y'] (confidence = 0.842, lift = 2.623, support = 0.321)\n",
            "['Computer Owner = Y'] -> ['Presence of Credit Card = Y', 'Purchase via On line = Y', 'Internet/Online Subscriber = Y'] (confidence = 0.807, lift = 2.623, support = 0.308)\n",
            "['Computer Owner = Y'] -> ['Internet/Online Subscriber = Y', 'Presence of Credit Card = Y', 'Purchased Through the Mail = Y'] (confidence = 0.803, lift = 2.623, support = 0.306)\n",
            "['Computer Owner = Y'] -> ['Internet/Online Subscriber = Y', 'Purchase via On line = Y', 'Purchased Through the Mail = Y'] (confidence = 0.921, lift = 2.623, support = 0.351)\n",
            "['Computer Owner = Y'] -> ['Presence of Credit Card = Y', 'Purchase via On line = Y', 'Purchased Through the Mail = Y'] (confidence = 0.801, lift = 2.623, support = 0.305)\n",
            "['Dwelling Unit Size = 1'] -> ['Estimated Current Home Value = 0.0', 'Purchase via On line = Y', 'Internet/Online Subscriber = Y'] (confidence = 0.641, lift = 1.972, support = 0.282)\n",
            "['Dwelling Unit Size = 1'] -> ['Estimated Current Home Value = 0.0', 'Internet/Online Subscriber = Y', 'Purchased Through the Mail = Y'] (confidence = 0.637, lift = 1.973, support = 0.281)\n",
            "['Dwelling Unit Size = 1'] -> ['Estimated Current Home Value = 0.0', 'Purchase via On line = Y', 'Purchased Through the Mail = Y'] (confidence = 0.633, lift = 1.974, support = 0.279)\n",
            "['Dwelling Unit Size = 1'] -> ['Presence of Credit Card = Y', 'Purchase via On line = Y', 'Internet/Online Subscriber = Y'] (confidence = 0.617, lift = 2.006, support = 0.272)\n",
            "['Dwelling Unit Size = 1'] -> ['Internet/Online Subscriber = Y', 'Presence of Credit Card = Y', 'Purchased Through the Mail = Y'] (confidence = 0.614, lift = 2.008, support = 0.271)\n",
            "['Dwelling Unit Size = 1'] -> ['Internet/Online Subscriber = Y', 'Purchase via On line = Y', 'Purchased Through the Mail = Y'] (confidence = 0.7, lift = 1.992, support = 0.308)\n",
            "['Dwelling Unit Size = 1'] -> ['Presence of Credit Card = Y', 'Purchase via On line = Y', 'Purchased Through the Mail = Y'] (confidence = 0.613, lift = 2.01, support = 0.27)\n",
            "['Estimated Current Home Value = 0.0'] -> ['Presence of Credit Card = Y', 'Purchase via On line = Y', 'Internet/Online Subscriber = Y'] (confidence = 0.565, lift = 1.837, support = 0.278)\n",
            "['Estimated Current Home Value = 0.0'] -> ['Internet/Online Subscriber = Y', 'Presence of Credit Card = Y', 'Purchased Through the Mail = Y'] (confidence = 0.562, lift = 1.836, support = 0.276)\n",
            "['Estimated Current Home Value = 0.0'] -> ['Internet/Online Subscriber = Y', 'Purchase via On line = Y', 'Purchased Through the Mail = Y'] (confidence = 0.652, lift = 1.857, support = 0.321)\n",
            "['Estimated Current Home Value = 0.0'] -> ['Presence of Credit Card = Y', 'Purchase via On line = Y', 'Purchased Through the Mail = Y'] (confidence = 0.56, lift = 1.835, support = 0.276)\n",
            "['Internet/Online Subscriber = Y'] -> ['Presence of Credit Card = Y', 'Purchase via On line = Y', 'Purchased Through the Mail = Y'] (confidence = 0.854, lift = 2.8, support = 0.305)\n",
            "['Computer Owner = Y'] -> ['Estimated Current Home Value = 0.0', 'Dwelling Unit Size = 1', 'Purchase via On line = Y', 'Internet/Online Subscriber = Y'] (confidence = 0.741, lift = 2.623, support = 0.282)\n",
            "['Computer Owner = Y'] -> ['Estimated Current Home Value = 0.0', 'Dwelling Unit Size = 1', 'Internet/Online Subscriber = Y', 'Purchased Through the Mail = Y'] (confidence = 0.737, lift = 2.623, support = 0.281)\n",
            "['Computer Owner = Y'] -> ['Estimated Current Home Value = 0.0', 'Dwelling Unit Size = 1', 'Purchase via On line = Y', 'Purchased Through the Mail = Y'] (confidence = 0.732, lift = 2.623, support = 0.279)\n",
            "['Computer Owner = Y'] -> ['Dwelling Unit Size = 1', 'Presence of Credit Card = Y', 'Purchase via On line = Y', 'Internet/Online Subscriber = Y'] (confidence = 0.714, lift = 2.623, support = 0.272)\n",
            "['Computer Owner = Y'] -> ['Internet/Online Subscriber = Y', 'Dwelling Unit Size = 1', 'Presence of Credit Card = Y', 'Purchased Through the Mail = Y'] (confidence = 0.71, lift = 2.623, support = 0.271)\n",
            "['Computer Owner = Y'] -> ['Internet/Online Subscriber = Y', 'Dwelling Unit Size = 1', 'Purchase via On line = Y', 'Purchased Through the Mail = Y'] (confidence = 0.809, lift = 2.623, support = 0.308)\n",
            "['Computer Owner = Y'] -> ['Dwelling Unit Size = 1', 'Presence of Credit Card = Y', 'Purchase via On line = Y', 'Purchased Through the Mail = Y'] (confidence = 0.709, lift = 2.623, support = 0.27)\n",
            "['Computer Owner = Y'] -> ['Estimated Current Home Value = 0.0', 'Presence of Credit Card = Y', 'Purchase via On line = Y', 'Internet/Online Subscriber = Y'] (confidence = 0.729, lift = 2.623, support = 0.278)\n",
            "['Computer Owner = Y'] -> ['Estimated Current Home Value = 0.0', 'Internet/Online Subscriber = Y', 'Presence of Credit Card = Y', 'Purchased Through the Mail = Y'] (confidence = 0.725, lift = 2.623, support = 0.276)\n",
            "['Computer Owner = Y'] -> ['Estimated Current Home Value = 0.0', 'Internet/Online Subscriber = Y', 'Purchase via On line = Y', 'Purchased Through the Mail = Y'] (confidence = 0.842, lift = 2.623, support = 0.321)\n",
            "['Computer Owner = Y'] -> ['Estimated Current Home Value = 0.0', 'Presence of Credit Card = Y', 'Purchase via On line = Y', 'Purchased Through the Mail = Y'] (confidence = 0.723, lift = 2.623, support = 0.276)\n",
            "['Computer Owner = Y'] -> ['Internet/Online Subscriber = Y', 'Presence of Credit Card = Y', 'Purchase via On line = Y', 'Purchased Through the Mail = Y'] (confidence = 0.801, lift = 2.623, support = 0.305)\n",
            "['Dwelling Unit Size = 1'] -> ['Estimated Current Home Value = 0.0', 'Internet/Online Subscriber = Y', 'Purchase via On line = Y', 'Purchased Through the Mail = Y'] (confidence = 0.633, lift = 1.974, support = 0.279)\n",
            "['Dwelling Unit Size = 1'] -> ['Internet/Online Subscriber = Y', 'Presence of Credit Card = Y', 'Purchase via On line = Y', 'Purchased Through the Mail = Y'] (confidence = 0.613, lift = 2.01, support = 0.27)\n",
            "['Estimated Current Home Value = 0.0'] -> ['Internet/Online Subscriber = Y', 'Presence of Credit Card = Y', 'Purchase via On line = Y', 'Purchased Through the Mail = Y'] (confidence = 0.56, lift = 1.835, support = 0.276)\n",
            "\n"
          ],
          "name": "stdout"
        }
      ]
    },
    {
      "cell_type": "markdown",
      "metadata": {
        "id": "D9I81Gln1cb1",
        "colab_type": "text"
      },
      "source": [
        "### **Conclusion**\n",
        "Based on the rules generated, it is clear that there are strong correlation between all of the BehaviorBank fields, however that is most likely due to the fact that if a customer answered one survey question they probably answered the others. All those rules tell us is that the majority of people who did one question on the survey were very likely to do another one as well.\n",
        "\n",
        "The sparseness of the dataset can be attributed to the low confidence of many of the other rules as well. There were some rules that seemed to have fairly adequate confidence such as:\n",
        "\n",
        "\\['Person Marital Status = M'\\] -> \\[Purchased Through the Mail = Y'\\] (confidence = 0.772, lift = 2.085, support = 0.258)\n",
        "\n",
        "But most of the rules generated are either useless or redundant. Overall, the rules generated simply tell us that if a customer took the survey, they likely filled out the whole survey.\n",
        "\n"
      ]
    },
    {
      "cell_type": "markdown",
      "metadata": {
        "id": "c7pmalYYhUlm",
        "colab_type": "text"
      },
      "source": [
        "## Linear Regression\n",
        "### Coding Implemented by Team Member: Cameron Howard"
      ]
    },
    {
      "cell_type": "markdown",
      "metadata": {
        "id": "oZNWuEbvWADR",
        "colab_type": "text"
      },
      "source": [
        "### **Approach**"
      ]
    },
    {
      "cell_type": "markdown",
      "metadata": {
        "id": "5I-q1bMFWGjL",
        "colab_type": "text"
      },
      "source": [
        "#### *Hypothesis*\n",
        "\n",
        "The goal for the linear regression test was to see if any positive correlations could be visualized on a graph between two attributes from the dataset. The attributes were hand-selected, and the code is easily customizable so that different attributes can be tested."
      ]
    },
    {
      "cell_type": "markdown",
      "metadata": {
        "id": "npMYlW4wWKru",
        "colab_type": "text"
      },
      "source": [
        "#### *Data Preprocessing*\n",
        "\n",
        "The data preprocessing required the data to be formatted in a way that the scikit-learn’s linear regression could run the fit and prediction over it. The formatting functions were used to put the data into a data frame, then reformat the values, then change the categorical values to numerical values. \n",
        " \n",
        "Then the hand selected attributes were extracted from the data frame into their own array of both of the pair and all NaN and zero values were dropped. This had to be done in this step so that the individual arrays afterwards would contain no zero values, nor NaN values, and still maintain the same shape. Then the pair was split into an x and y array and was ready to be ran through the regression.\n",
        "\n",
        "The pairs of attributes I chose to test were:\n",
        "\n",
        "* Year 1, Vehicle Type\n",
        "* Home Base Square Footage, Home Land Value\n",
        "* Estimated Current Home Value, Home Land Square Footage\n",
        "* Home Total Rooms, BehaviorBank: Cat Enthusiast\n"
      ]
    },
    {
      "cell_type": "markdown",
      "metadata": {
        "id": "Xda5sSSDWPZ9",
        "colab_type": "text"
      },
      "source": [
        "#### *Results*"
      ]
    },
    {
      "cell_type": "code",
      "metadata": {
        "id": "bwWE3s5yhVHt",
        "colab_type": "code",
        "outputId": "570d4e54-dbb8-4354-a7ce-c36a984f1a78",
        "colab": {
          "base_uri": "https://localhost:8080/",
          "height": 1000
        }
      },
      "source": [
        "from task3_format_data import auto_csv_to_df, reformat_auto_data_vals, categorical_to_numerical\n",
        "from sklearn.linear_model import LinearRegression\n",
        "from sklearn.model_selection import train_test_split\n",
        "\n",
        "USED_AUTO_DATA_PATH = \"/content/UsedAutoRELEVATEfirst10000-noLatLong.csv\"\n",
        "\n",
        "\n",
        "def extract_names(xn, yn, dframe):\n",
        "    comp_df = dframe[[xn, yn]]\n",
        "    comp_df = comp_df.dropna()\n",
        "    comp_df = comp_df[(comp_df != 0).all(1)]\n",
        "\n",
        "    xarr = comp_df[xn].to_numpy()\n",
        "    yarr = comp_df[yn].to_numpy()\n",
        "\n",
        "    return xarr, yarr\n",
        "\n",
        "\n",
        "def run_and_plot_regression(x, y, x_name, y_name):\n",
        "    x_train, x_test, y_train, y_test = train_test_split(x, y, test_size=0.25, random_state=2)\n",
        "\n",
        "    reg = LinearRegression()\n",
        "    reg.fit(x_train.reshape(-1, 1), y_train)\n",
        "    y_pred = reg.predict(x_test.reshape(-1, 1))\n",
        "\n",
        "    plt.scatter(x_test, y_test, color='black')\n",
        "    plt.plot(x_test, y_pred, color='blue')\n",
        "    plt.xticks()\n",
        "    plt.yticks()\n",
        "    plt.xlabel(x_name)\n",
        "    plt.ylabel(y_name)\n",
        "    plt.grid()\n",
        "    plt.show()\n",
        "\n",
        "\n",
        "if __name__ == '__main__':\n",
        "    df = auto_csv_to_df(USED_AUTO_DATA_PATH)\n",
        "    df = reformat_auto_data_vals(df)\n",
        "    df = categorical_to_numerical(df)\n",
        "\n",
        "    x_names = ['Year 1', 'Home Base Square Footage', 'Estimated Current Home Value', 'Home Total Rooms']\n",
        "    y_names = ['Vehicle Type', 'Home Land Value', 'Home Land Square Footage', 'BehaviorBank: Cat Enthusiast']\n",
        "\n",
        "    for i in range(len(x_names)):\n",
        "        x, y = extract_names(x_names[i], y_names[i], df)\n",
        "\n",
        "        run_and_plot_regression(x, y, x_names[i], y_names[i])"
      ],
      "execution_count": 23,
      "outputs": [
        {
          "output_type": "display_data",
          "data": {
            "image/png": "[encoded data removed]",
            "text/plain": [
              "<Figure size 432x288 with 1 Axes>"
            ]
          },
          "metadata": {
            "tags": []
          }
        },
        {
          "output_type": "display_data",
          "data": {
            "image/png": "[encoded data removed]",
            "text/plain": [
              "<Figure size 432x288 with 1 Axes>"
            ]
          },
          "metadata": {
            "tags": []
          }
        },
        {
          "output_type": "display_data",
          "data": {
            "image/png": "[encoded data removed]",
            "text/plain": [
              "<Figure size 432x288 with 1 Axes>"
            ]
          },
          "metadata": {
            "tags": []
          }
        },
        {
          "output_type": "display_data",
          "data": {
            "image/png": "[encoded data removed]",
            "text/plain": [
              "<Figure size 432x288 with 1 Axes>"
            ]
          },
          "metadata": {
            "tags": []
          }
        }
      ]
    },
    {
      "cell_type": "markdown",
      "metadata": {
        "id": "wAscleKgWQdh",
        "colab_type": "text"
      },
      "source": [
        "### **Conclusion**\n",
        "\n",
        "Linear Regression is meant to use two continuous variables. Two of the examples used use a discrete variable. This demonstrates a failure of linear regression, but shows how the data could be examined as a clustering problem.\n",
        " \n",
        "The first plot (Vehicle Type vs. Vehicle Year) is an example of one that doesn't work with linear regression because vehicle type isn't continuous as there are only 4 types. From the graph you can see that this could work as a clustering problem, although it still wouldn't be that informative. \n",
        " \n",
        "The second plot (Home Land Value vs Home Base Square Footage) is actually probably the best example of how it should work. You can kind of see that there is a positive correlation (as would be expected), but there are also a lot of outliers that could be skewing the data.\n",
        " \n",
        "The third plot (Home Land Square Footage vs Estimated Current Home Value) somewhat works, but with massive outliers crushing the correlation. Also, it seems that a good portion of data is going the wrong way (climbing the Y while low on the X) This could be due to inconsistencies within the dataset. By looking at the dataset manually, it looks like some of the values of square footage are meant to be scaled by 1000 while others are meant to be scaled by 100.\n",
        " \n",
        "The fourth plot (BehaviorBank: Cat Enthusiast vs Home Total Rooms) doesn't work at all because, again, one of the variables has only 2 options. This test was run to see if there was any correlation to cat enthusiasts having more or less rooms in their house. This is again better suited as a clustering problem, but once again it wouldn't be very informative.\n",
        " \n",
        "Overall, the dataset seems to be full of inconsistencies and poor correlations.\n"
      ]
    },
    {
      "cell_type": "markdown",
      "metadata": {
        "id": "I47WXjXMgqFU",
        "colab_type": "text"
      },
      "source": [
        "# List of Codes/Documents Submitted\n",
        "\n",
        "1. label_training.txt - The true labels of the Task 1 testing data\n",
        "2. testing.txt - Task 1 testing data\n",
        "3. training.txt - Task 1 training data\n",
        "4. UsedAutoRELEVATEfirst10000-noLatLong.csv - Auto data for Task 3\n",
        "5. task1_format_data.py - Ian Vanderhoff's format data program for Task 1\n",
        "6. task3_format_data.py - Ian Vanderhoff's format data program for Task 3\n",
        "7. README.txt - A readme file further describing what is being submitted\n",
        "8. Report.ipynb - The python notebook of the entire Report, runnable in Google Colab"
      ]
    },
    {
      "cell_type": "markdown",
      "metadata": {
        "id": "TA0biWlFgnZT",
        "colab_type": "text"
      },
      "source": [
        "# References\n",
        "\n",
        "[1] Dangare, Chaitrali S., and Sulabha S. Apte. \"Improved study of heart disease prediction system using data mining classification techniques.\" International Journal of Computer Applications 47.10 (2012): 44-48.\n",
        "\n",
        "[2] Kumari, Milan, and Sunila Godara. \"Comparative study of data mining classification methods in cardiovascular disease prediction 1.\" (2011).\n",
        "\n",
        "[3] Zhang, Zaifang, Hui Cheng, and Xuening Chu. \"Aided analysis for quality function deployment with an Apriori-based data mining approach.\" International Journal of Computer Integrated Manufacturing 23.7 (2010): 673-686.\n",
        "\n",
        "[4] McCullough, B. D., Taha Mokfi, and Mahsa Almaeenejad. \"On the accuracy of linear regression routines in some data mining packages.\" Wiley Interdisciplinary Reviews: Data Mining and Knowledge Discovery 9.3 (2019): e1279."
      ]
    }
  ]
}
